{
 "cells": [
  {
   "cell_type": "markdown",
   "id": "f74b5c16",
   "metadata": {
    "id": "view-in-github",
    "papermill": {
     "duration": 0.015543,
     "end_time": "2023-01-09T10:19:39.775241",
     "exception": false,
     "start_time": "2023-01-09T10:19:39.759698",
     "status": "completed"
    },
    "tags": []
   },
   "source": [
    "<a href=\"https://colab.research.google.com/github/AeraVentis/Blur_detection/blob/main/Blure_detection_Oleg_Sharshon.ipynb\" target=\"_parent\"><img src=\"https://colab.research.google.com/assets/colab-badge.svg\" alt=\"Open In Colab\"/></a>"
   ]
  },
  {
   "cell_type": "markdown",
   "id": "2cd343a7",
   "metadata": {
    "id": "s4SYjQXyEoF9",
    "papermill": {
     "duration": 0.01548,
     "end_time": "2023-01-09T10:19:39.804140",
     "exception": false,
     "start_time": "2023-01-09T10:19:39.788660",
     "status": "completed"
    },
    "tags": []
   },
   "source": [
    "##  SHIFT CV WINTER 2023  \n",
    "## Blurred images detection  \n",
    "Выполнил: Олег Шаршонь (FOCUSSTART-36537)\n"
   ]
  },
  {
   "cell_type": "markdown",
   "id": "e14f97a6",
   "metadata": {
    "papermill": {
     "duration": 0.013303,
     "end_time": "2023-01-09T10:19:39.832511",
     "exception": false,
     "start_time": "2023-01-09T10:19:39.819208",
     "status": "completed"
    },
    "tags": []
   },
   "source": [
    "Идея данного ноутбука взята из \"[Baseline Notebook](https://www.kaggle.com/code/amlekomtsev/baseline)\" и \"[Blur detection with feature Engineering](https://www.kaggle.com/code/harininarasimhan/blur-detection-with-feature-engineering/notebook)\"\n",
    "\n",
    "Судя по liderboard,  выделение агрегированных свойств изображений не самый лучший подход для классификации по наличию заблюренности. Анализируя ошибки предсказания (как FN, так и FP) видно несколько проблем такого подхода. \n",
    "1. Датасет имеет изображения в которых место расположения блюра имеет важное значение. Например, центральная часть в фокусе, а окружающие объекты (переднего или заднего плана) вне фокуса.\n",
    "2. Тени вызывают ложное срабатывание классификатора, потому что имеют размытые границы по своей природе.\n",
    "3. Motion blur  имеет сложную структуру контуров (я бы назвал этом \"множественные четкие котуры\") и сложен для детектирования.\n",
    "\n",
    "Хотелось бы реализовать алгоритм выделения свойств контуров объектов на изображении, например, удельная размытость контуров, имеющая привязку к геометрическому расположению на фото. Наданный момент моей экспертности для этого недостаточно."
   ]
  },
  {
   "cell_type": "markdown",
   "id": "f8f7e8c4",
   "metadata": {
    "id": "TWoPGOvIOlq6",
    "papermill": {
     "duration": 0.01391,
     "end_time": "2023-01-09T10:19:39.859911",
     "exception": false,
     "start_time": "2023-01-09T10:19:39.846001",
     "status": "completed"
    },
    "tags": []
   },
   "source": [
    "## Prepare the environment"
   ]
  },
  {
   "cell_type": "code",
   "execution_count": 1,
   "id": "f03e74df",
   "metadata": {
    "execution": {
     "iopub.execute_input": "2023-01-09T10:19:39.890181Z",
     "iopub.status.busy": "2023-01-09T10:19:39.889212Z",
     "iopub.status.idle": "2023-01-09T10:19:39.894739Z",
     "shell.execute_reply": "2023-01-09T10:19:39.893827Z"
    },
    "papermill": {
     "duration": 0.024553,
     "end_time": "2023-01-09T10:19:39.897837",
     "exception": false,
     "start_time": "2023-01-09T10:19:39.873284",
     "status": "completed"
    },
    "tags": []
   },
   "outputs": [],
   "source": [
    "#import os\n",
    "#for dirname, _, filenames in os.walk('/kaggle/input'):\n",
    "#    for filename in filenames:\n",
    "#        print(os.path.join(dirname))"
   ]
  },
  {
   "cell_type": "code",
   "execution_count": 2,
   "id": "a1456dc6",
   "metadata": {
    "execution": {
     "iopub.execute_input": "2023-01-09T10:19:39.926715Z",
     "iopub.status.busy": "2023-01-09T10:19:39.926297Z",
     "iopub.status.idle": "2023-01-09T10:19:39.931358Z",
     "shell.execute_reply": "2023-01-09T10:19:39.930011Z"
    },
    "id": "aiMrUSETUibZ",
    "papermill": {
     "duration": 0.022418,
     "end_time": "2023-01-09T10:19:39.933757",
     "exception": false,
     "start_time": "2023-01-09T10:19:39.911339",
     "status": "completed"
    },
    "tags": []
   },
   "outputs": [],
   "source": [
    "#!pip install -q ipyplot"
   ]
  },
  {
   "cell_type": "code",
   "execution_count": 3,
   "id": "ad416e2b",
   "metadata": {
    "execution": {
     "iopub.execute_input": "2023-01-09T10:19:39.963206Z",
     "iopub.status.busy": "2023-01-09T10:19:39.962798Z",
     "iopub.status.idle": "2023-01-09T10:19:44.888996Z",
     "shell.execute_reply": "2023-01-09T10:19:44.887399Z"
    },
    "id": "fIeejRjiS9fT",
    "papermill": {
     "duration": 4.944071,
     "end_time": "2023-01-09T10:19:44.891833",
     "exception": false,
     "start_time": "2023-01-09T10:19:39.947762",
     "status": "completed"
    },
    "tags": []
   },
   "outputs": [],
   "source": [
    "import os\n",
    "import numpy as np\n",
    "import pandas as pd\n",
    "import glob\n",
    "#from ipyplot import plot_images\n",
    "import cv2\n",
    "\n",
    "import torch\n",
    "from torchvision import transforms\n",
    "\n",
    "from tqdm import tqdm\n",
    "from PIL import Image\n",
    "from skimage.filters import laplace, sobel, roberts\n",
    "\n",
    "from sklearn.model_selection import train_test_split # разделение датасета\n",
    "from sklearn.metrics import accuracy_score\n",
    "from sklearn.decomposition import PCA\n",
    "\n",
    "from sklearn.pipeline import make_pipeline\n",
    "from sklearn.preprocessing import StandardScaler\n",
    "from sklearn.svm import SVC\n",
    "\n",
    "from statsmodels.stats.outliers_influence import variance_inflation_factor  \n",
    "from statsmodels.tools.tools import add_constant\n",
    "from patsy import dmatrices\n",
    "\n",
    "import matplotlib.pyplot as plt\n",
    "import seaborn as sns\n",
    "%matplotlib inline"
   ]
  },
  {
   "cell_type": "code",
   "execution_count": 4,
   "id": "67e2999a",
   "metadata": {
    "execution": {
     "iopub.execute_input": "2023-01-09T10:19:44.923149Z",
     "iopub.status.busy": "2023-01-09T10:19:44.922427Z",
     "iopub.status.idle": "2023-01-09T10:19:44.927974Z",
     "shell.execute_reply": "2023-01-09T10:19:44.926736Z"
    },
    "id": "8nQVKSZPh6h1",
    "papermill": {
     "duration": 0.023605,
     "end_time": "2023-01-09T10:19:44.930392",
     "exception": false,
     "start_time": "2023-01-09T10:19:44.906787",
     "status": "completed"
    },
    "tags": []
   },
   "outputs": [],
   "source": [
    "# https://stackoverflow.com/questions/65827830/disabledfunctionerror-cv2-imshow-is-disabled-in-colab-because-it-causes-jupy\n",
    "# патч для работы imshow в Google Colab\n",
    "# from google.colab.patches import cv2_imshow"
   ]
  },
  {
   "cell_type": "markdown",
   "id": "295e574f",
   "metadata": {
    "id": "x3wUPDYiO2ny",
    "papermill": {
     "duration": 0.013926,
     "end_time": "2023-01-09T10:19:44.958349",
     "exception": false,
     "start_time": "2023-01-09T10:19:44.944423",
     "status": "completed"
    },
    "tags": []
   },
   "source": [
    "## Paths"
   ]
  },
  {
   "cell_type": "code",
   "execution_count": 5,
   "id": "775e6db8",
   "metadata": {
    "execution": {
     "iopub.execute_input": "2023-01-09T10:19:44.989245Z",
     "iopub.status.busy": "2023-01-09T10:19:44.988439Z",
     "iopub.status.idle": "2023-01-09T10:19:44.993411Z",
     "shell.execute_reply": "2023-01-09T10:19:44.992453Z"
    },
    "papermill": {
     "duration": 0.023257,
     "end_time": "2023-01-09T10:19:44.995953",
     "exception": false,
     "start_time": "2023-01-09T10:19:44.972696",
     "status": "completed"
    },
    "tags": []
   },
   "outputs": [],
   "source": [
    "# /kaggle/input/shift-cv-winter-2023/train.csv\n",
    "# /kaggle/input/shift-cv-winter-2023/test/test\n",
    "# /kaggle/input/shift-cv-winter-2023/train/train"
   ]
  },
  {
   "cell_type": "code",
   "execution_count": 6,
   "id": "45102a3f",
   "metadata": {
    "execution": {
     "iopub.execute_input": "2023-01-09T10:19:45.026210Z",
     "iopub.status.busy": "2023-01-09T10:19:45.025229Z",
     "iopub.status.idle": "2023-01-09T10:19:45.033398Z",
     "shell.execute_reply": "2023-01-09T10:19:45.032104Z"
    },
    "id": "iBTj1cXpSi1k",
    "papermill": {
     "duration": 0.026535,
     "end_time": "2023-01-09T10:19:45.036013",
     "exception": false,
     "start_time": "2023-01-09T10:19:45.009478",
     "status": "completed"
    },
    "tags": []
   },
   "outputs": [],
   "source": [
    "train_pth = '/kaggle/input/shift-cv-winter-2023/train/train'\n",
    "tr_csv_path = '/kaggle/input/shift-cv-winter-2023/train.csv'"
   ]
  },
  {
   "cell_type": "markdown",
   "id": "e044f932",
   "metadata": {
    "id": "Uo4ePe98MKuH",
    "papermill": {
     "duration": 0.013296,
     "end_time": "2023-01-09T10:19:45.062740",
     "exception": false,
     "start_time": "2023-01-09T10:19:45.049444",
     "status": "completed"
    },
    "tags": []
   },
   "source": [
    "## DataFrame"
   ]
  },
  {
   "cell_type": "code",
   "execution_count": 7,
   "id": "508ee3ba",
   "metadata": {
    "execution": {
     "iopub.execute_input": "2023-01-09T10:19:45.094002Z",
     "iopub.status.busy": "2023-01-09T10:19:45.093117Z",
     "iopub.status.idle": "2023-01-09T10:19:45.119284Z",
     "shell.execute_reply": "2023-01-09T10:19:45.117816Z"
    },
    "id": "d4QRxMEoqr3b",
    "outputId": "57bd4a0d-d6df-4a87-f610-11f5c9ad688b",
    "papermill": {
     "duration": 0.044996,
     "end_time": "2023-01-09T10:19:45.122440",
     "exception": false,
     "start_time": "2023-01-09T10:19:45.077444",
     "status": "completed"
    },
    "tags": []
   },
   "outputs": [
    {
     "name": "stdout",
     "output_type": "stream",
     "text": [
      "2664\n"
     ]
    }
   ],
   "source": [
    "df_train = pd.read_csv(tr_csv_path, dtype={'blur':int})\n",
    "print(len(df_train))\n",
    "# out: 2664"
   ]
  },
  {
   "cell_type": "code",
   "execution_count": 8,
   "id": "af4e3fbd",
   "metadata": {
    "execution": {
     "iopub.execute_input": "2023-01-09T10:19:45.152391Z",
     "iopub.status.busy": "2023-01-09T10:19:45.151605Z",
     "iopub.status.idle": "2023-01-09T10:19:45.168651Z",
     "shell.execute_reply": "2023-01-09T10:19:45.166690Z"
    },
    "id": "i436e9b20Sv-",
    "outputId": "84906312-106f-43ef-caac-bc6613bd3e71",
    "papermill": {
     "duration": 0.035128,
     "end_time": "2023-01-09T10:19:45.171463",
     "exception": false,
     "start_time": "2023-01-09T10:19:45.136335",
     "status": "completed"
    },
    "tags": []
   },
   "outputs": [
    {
     "name": "stdout",
     "output_type": "stream",
     "text": [
      "                   filename  blur\n",
      "0  kagouracdzwrjjxzzedi.jpg     0\n",
      "1  ahnamimqdfqoqdnozabc.jpg     0\n",
      "2  gwhdadvghuzinmzhzssx.jpg     0\n",
      "(2664, 2)\n"
     ]
    }
   ],
   "source": [
    "print(df_train.head(3), df_train.shape, sep='\\n')  # filename, blur"
   ]
  },
  {
   "cell_type": "markdown",
   "id": "6822845f",
   "metadata": {
    "id": "7qcpXgcqMlOK",
    "papermill": {
     "duration": 0.013745,
     "end_time": "2023-01-09T10:19:45.199227",
     "exception": false,
     "start_time": "2023-01-09T10:19:45.185482",
     "status": "completed"
    },
    "tags": []
   },
   "source": [
    "## Define"
   ]
  },
  {
   "cell_type": "code",
   "execution_count": 9,
   "id": "39126a3f",
   "metadata": {
    "execution": {
     "iopub.execute_input": "2023-01-09T10:19:45.229304Z",
     "iopub.status.busy": "2023-01-09T10:19:45.228478Z",
     "iopub.status.idle": "2023-01-09T10:19:45.234355Z",
     "shell.execute_reply": "2023-01-09T10:19:45.233237Z"
    },
    "id": "LcOjBq-i-vGt",
    "papermill": {
     "duration": 0.02398,
     "end_time": "2023-01-09T10:19:45.237009",
     "exception": false,
     "start_time": "2023-01-09T10:19:45.213029",
     "status": "completed"
    },
    "tags": []
   },
   "outputs": [],
   "source": [
    "convert_tensor = transforms.ToTensor()"
   ]
  },
  {
   "cell_type": "code",
   "execution_count": 10,
   "id": "6ea256c8",
   "metadata": {
    "execution": {
     "iopub.execute_input": "2023-01-09T10:19:45.266705Z",
     "iopub.status.busy": "2023-01-09T10:19:45.266268Z",
     "iopub.status.idle": "2023-01-09T10:19:45.272148Z",
     "shell.execute_reply": "2023-01-09T10:19:45.270906Z"
    },
    "papermill": {
     "duration": 0.024246,
     "end_time": "2023-01-09T10:19:45.275252",
     "exception": false,
     "start_time": "2023-01-09T10:19:45.251006",
     "status": "completed"
    },
    "tags": []
   },
   "outputs": [],
   "source": [
    "# set the work dir path\n",
    "\n",
    "def set_dir(path):\n",
    "  os.chdir(path)\n",
    "  print(os.getcwd())\n",
    "  file_list = os.listdir()\n",
    "  return file_list"
   ]
  },
  {
   "cell_type": "code",
   "execution_count": 11,
   "id": "f62be50e",
   "metadata": {
    "execution": {
     "iopub.execute_input": "2023-01-09T10:19:45.305376Z",
     "iopub.status.busy": "2023-01-09T10:19:45.304965Z",
     "iopub.status.idle": "2023-01-09T10:19:45.313826Z",
     "shell.execute_reply": "2023-01-09T10:19:45.312397Z"
    },
    "papermill": {
     "duration": 0.027286,
     "end_time": "2023-01-09T10:19:45.316812",
     "exception": false,
     "start_time": "2023-01-09T10:19:45.289526",
     "status": "completed"
    },
    "tags": []
   },
   "outputs": [],
   "source": [
    "# перед запуском установить рабочую директорию\n",
    "\n",
    "def ftrs_extrctn(df):\n",
    "  features=[]\n",
    "  for im_pth in tqdm(df['filename']):\n",
    "    gray_img2 = cv2.imread(str(im_pth),0)\n",
    "    #gray_img2 = cv2.Laplacian(gray_img2, -1, ksize=5, scale=1,delta=0, borderType=cv2.BORDER_DEFAULT)\n",
    "    gray_img2 = gray_img2[50:590, 50:590]\n",
    "\n",
    "\n",
    "    tv_feat = calc_tv_measure(gray_img2)\n",
    "    fft_feat = calc_fft_measure(gray_img2)\n",
    "    lpl_feat = laplace(gray_img2)\n",
    "    sbl_feat = sobel(gray_img2)\n",
    "    rbt_feat = roberts(gray_img2)\n",
    "\n",
    "    features.append([im_pth, lpl_feat.mean(),lpl_feat.var(),np.amax(lpl_feat),\\\n",
    "                   sbl_feat.mean(),sbl_feat.var(),np.max(sbl_feat),\\\n",
    "                   rbt_feat.mean(),rbt_feat.var(),np.max(rbt_feat),\\\n",
    "                   fft_feat, tv_feat])\n",
    "  \n",
    "  return features"
   ]
  },
  {
   "cell_type": "code",
   "execution_count": 12,
   "id": "b77f19cd",
   "metadata": {
    "execution": {
     "iopub.execute_input": "2023-01-09T10:19:45.347145Z",
     "iopub.status.busy": "2023-01-09T10:19:45.346732Z",
     "iopub.status.idle": "2023-01-09T10:19:45.356888Z",
     "shell.execute_reply": "2023-01-09T10:19:45.355608Z"
    },
    "id": "L9VEP62A8_lX",
    "papermill": {
     "duration": 0.028182,
     "end_time": "2023-01-09T10:19:45.359521",
     "exception": false,
     "start_time": "2023-01-09T10:19:45.331339",
     "status": "completed"
    },
    "tags": []
   },
   "outputs": [],
   "source": [
    "# Baseline notebook\n",
    "\n",
    "def calc_tv_measure(gray_img):\n",
    "\n",
    "    gray_img = convert_tensor(gray_img)\n",
    "\n",
    "    gray_img = gray_img.detach().clone()\n",
    "    gray_img = gray_img[:, gray_img.shape[1]//4:3*gray_img.shape[1]//4,gray_img.shape[2]//4:3*gray_img.shape[2]//4]\n",
    "    \n",
    "    w_variance = torch.sum(torch.pow(gray_img[:, :, 1:] - gray_img[:, :, :-1], 2), dim=[1, 2])\n",
    "    h_variance = torch.sum(torch.pow(gray_img[:, 1:, :] - gray_img[:, :-1, :], 2), dim=[1, 2])\n",
    "\n",
    "    l2_score = (h_variance + w_variance)\n",
    "\n",
    "    w_variance = torch.sum(torch.abs(gray_img[:, :, 1:] - gray_img[:, :, :-1]), dim=[1, 2])\n",
    "    h_variance = torch.sum(torch.abs(gray_img[:, 1:, :] - gray_img[:, :-1, :]), dim=[1, 2])\n",
    "    \n",
    "    l1_score = (h_variance + w_variance)\n",
    "    \n",
    "    tv_measure = (l1_score/l2_score).numpy()[0]\n",
    "    \n",
    "    return tv_measure"
   ]
  },
  {
   "cell_type": "code",
   "execution_count": 13,
   "id": "4aaa7698",
   "metadata": {
    "execution": {
     "iopub.execute_input": "2023-01-09T10:19:45.388929Z",
     "iopub.status.busy": "2023-01-09T10:19:45.388495Z",
     "iopub.status.idle": "2023-01-09T10:19:45.397657Z",
     "shell.execute_reply": "2023-01-09T10:19:45.396244Z"
    },
    "id": "_2sWj6eO80Qp",
    "papermill": {
     "duration": 0.027182,
     "end_time": "2023-01-09T10:19:45.400419",
     "exception": false,
     "start_time": "2023-01-09T10:19:45.373237",
     "status": "completed"
    },
    "tags": []
   },
   "outputs": [],
   "source": [
    "# Baseline notebook\n",
    "# https://pyimagesearch.com/2020/06/15/opencv-fast-fourier-transform-fft-for-blur-detection-in-images-and-video-streams/\n",
    "# https://stackoverflow.com/questions/71677123/image-processing-for-blur-detection\n",
    "\n",
    "def calc_fft_measure(gray_img, size=40):\n",
    "    \"\"\" Определение заблюренности изображения с помощью Fourier transform:\n",
    "\n",
    "    - Изображение переводится в частотный спектр с помощью fft, производится сдвиг начала координат и\n",
    "    зануляется низкочастотный спектр.\n",
    "    - Частотный спектр переводится обратно в изображение с помощью inverse fft.\n",
    "    - Считается магнитуда, определяется уровень заблюренности картинки.\n",
    "    Чем больше полученное значение, тем более размыто изображение\n",
    "    \"\"\"\n",
    "    (h, w) = gray_img.shape\n",
    "    (cx, cy) = (int(w / 2.0), int(h / 2.0))\n",
    "    fft = np.fft.fft2(gray_img)\n",
    "    fftShift = np.fft.fftshift(fft)\n",
    "\n",
    "    fftShift[cy - size:cy + size, cx - size:cx + size] = 0\n",
    "    fftShift = np.fft.ifftshift(fftShift)\n",
    "    recon = np.fft.ifft2(fftShift)\n",
    "    \n",
    "    magnitude = 20 * np.log(np.abs(recon))\n",
    "    mean = 1/np.average(magnitude)\n",
    "\n",
    "    return mean"
   ]
  },
  {
   "cell_type": "markdown",
   "id": "b7348d81",
   "metadata": {
    "id": "Cqb8qxOHr5T2",
    "papermill": {
     "duration": 0.013446,
     "end_time": "2023-01-09T10:19:45.427645",
     "exception": false,
     "start_time": "2023-01-09T10:19:45.414199",
     "status": "completed"
    },
    "tags": []
   },
   "source": [
    "## Getting the features"
   ]
  },
  {
   "cell_type": "code",
   "execution_count": 14,
   "id": "282dbad9",
   "metadata": {
    "execution": {
     "iopub.execute_input": "2023-01-09T10:19:45.457209Z",
     "iopub.status.busy": "2023-01-09T10:19:45.456789Z",
     "iopub.status.idle": "2023-01-09T10:19:45.523350Z",
     "shell.execute_reply": "2023-01-09T10:19:45.521628Z"
    },
    "papermill": {
     "duration": 0.085386,
     "end_time": "2023-01-09T10:19:45.526990",
     "exception": false,
     "start_time": "2023-01-09T10:19:45.441604",
     "status": "completed"
    },
    "scrolled": true,
    "tags": []
   },
   "outputs": [
    {
     "name": "stdout",
     "output_type": "stream",
     "text": [
      "/kaggle/input/shift-cv-winter-2023/train/train\n"
     ]
    },
    {
     "data": {
      "text/plain": [
       "['wmunvmbcxdnqeuznlese.jpg',\n",
       " 'olelwtwthhiteprdavku.jpg',\n",
       " 'lsdgodykhcjruwakzcsx.jpg',\n",
       " 'znbkajavjqomfvnzrmah.jpg',\n",
       " 'lmrysxrruynwyrmmjvaz.jpg',\n",
       " 'odxudopnryxnvblsxnwm.jpg',\n",
       " 'hxdjdvpikbnewxzvqgnd.jpg',\n",
       " 'cwnnqatbopjjtnmupgvg.jpg',\n",
       " 'iekimveyrxbdvtjgonoe.jpg',\n",
       " 'wtbghlfvgzoyxhudtehy.jpg',\n",
       " 'elvomeqlpbqgrsjvnjqf.jpg',\n",
       " 'ntwevfbfsyrpdieuklrt.jpg',\n",
       " 'sthpmfuyflvhgayxvtfn.jpg',\n",
       " 'ziaqdpafcaltyxvoczrk.jpg',\n",
       " 'nxbqdfktwjiuufcqhjaq.jpg',\n",
       " 'toqherezursaomguxwwt.jpg',\n",
       " 'afkkshnudepwayyrooqt.jpg',\n",
       " 'vssdzygnnilkztqpalch.jpg',\n",
       " 'ulhiatgxyirailubovpo.jpg',\n",
       " 'cwzasnxuukcgevatzeym.jpg',\n",
       " 'djedikqaolwjdupasnvs.jpg',\n",
       " 'zelwrmbcrqnecatwhlvt.jpg',\n",
       " 'pqpruuhacodpccizzyud.jpg',\n",
       " 'lfnpgrvzpqftolvohqnd.jpg',\n",
       " 'zakrigssggdzqxffkhpg.jpg',\n",
       " 'asbmkvbdbkranqkmyxyc.jpg',\n",
       " 'puwnsmtlryekjpglynca.jpg',\n",
       " 'khxdonarvkvjlrdqxkvb.jpg',\n",
       " 'yrfnvkpgxswrpwaumufx.jpg',\n",
       " 'yozmxmxiinohxubokezu.jpg',\n",
       " 'dssjsukhwcasdkfvthrh.jpg',\n",
       " 'kzztpjabfcwtboopqqlz.jpg',\n",
       " 'pzvyzwcutcfvulztkpjd.jpg',\n",
       " 'lzhzyprkqviyqtthckng.jpg',\n",
       " 'dhxisnnkdmlqodhoggwu.jpg',\n",
       " 'tmoloeqntdekssahxaht.jpg',\n",
       " 'paryaowppsdysyxnepqq.jpg',\n",
       " 'nnhecivjqcsnhroivgbo.jpg',\n",
       " 'viqtxxvmtgiwrarxlrfx.jpg',\n",
       " 'mqpepwyijrasgdmfjwnk.jpg',\n",
       " 'aqaktevigpajgmcyaotx.jpg',\n",
       " 'koowtobayuoampilaabu.jpg',\n",
       " 'zymiymaaybiqqbslmgrx.jpg',\n",
       " 'nnazrzktdosbxqswhill.jpg',\n",
       " 'jrsmwpghwbrydtreogrg.jpg',\n",
       " 'tcarxzvhxrwedcygfmnv.jpg',\n",
       " 'jbeotlavtbdkknvbxcng.jpg',\n",
       " 'hqhizgqpbymlcamzovnj.jpg',\n",
       " 'gjjcnoeflpgqbihcekpl.jpg',\n",
       " 'dzekcemizygijnxtghbp.jpg',\n",
       " 'bunygdhjiyiqctujnvnd.jpg',\n",
       " 'xdeicccbxjkswhegbgpq.jpg',\n",
       " 'watrktsywokaokqijzqz.jpg',\n",
       " 'beteyecdntndodxhhksy.jpg',\n",
       " 'apmhbobanlayyxcidzoh.jpg',\n",
       " 'jiumuktvqvoxjsqbesmv.jpg',\n",
       " 'vhvjlbqbwgpyggzuvsfz.jpg',\n",
       " 'fgfiodwrdizojypzgldw.jpg',\n",
       " 'rrzaoaanzrzdugvwbgjo.jpg',\n",
       " 'ctypgkkwcjmnbmhbmxra.jpg',\n",
       " 'dsgbnzbnjbzqwteibwdm.jpg',\n",
       " 'iwufonrvjtwktciyxcbm.jpg',\n",
       " 'chboipperjqzuehzzubg.jpg',\n",
       " 'epaktaaqwjiqomfjssti.jpg',\n",
       " 'gnvbbugmnmepwbrdsaeo.jpg',\n",
       " 'gpoxkwaulnziwjlzplbi.jpg',\n",
       " 'omxddrgaphkmgbzqpbll.jpg',\n",
       " 'usmpqmpgqaqkixiyxotp.jpg',\n",
       " 'kvisnrqitkzvrtjytieh.jpg',\n",
       " 'crotjuoegbmpvvhphbkv.jpg',\n",
       " 'ahhzfyxetfvmtpviifub.jpg',\n",
       " 'txqqnxlqvenzabcvcenl.jpg',\n",
       " 'xunjuaasuzpjsuengojc.jpg',\n",
       " 'wtwxbcrsdoafnmwqgawk.jpg',\n",
       " 'zkjwvldtfsigkmmganfs.jpg',\n",
       " 'phhtbgtczcxlghuodfff.jpg',\n",
       " 'kfgwftmpzhsyyqulknqf.jpg',\n",
       " 'ymcldqtvtnljdivoulsu.jpg',\n",
       " 'gwzxlzfycwuwmtffyoxa.jpg',\n",
       " 'zspkjmprlhhihjjjsxxi.jpg',\n",
       " 'fbukeinqbtdvojklmrxa.jpg',\n",
       " 'pxruseoumitnodkupfxf.jpg',\n",
       " 'zvfyumpgcmpkqietdvrj.jpg',\n",
       " 'euspbviziwmzzpydbhrd.jpg',\n",
       " 'marhlhlrezbbbixpfwnb.jpg',\n",
       " 'ehrdacjfmnedlqmyrjtm.jpg',\n",
       " 'jpgcitempdnptrzeaahh.jpg',\n",
       " 'pczqdmibofoxetbflcih.jpg',\n",
       " 'nmftcvnbfqgypjypthtu.jpg',\n",
       " 'bxxuwauqmbkanjapnaqn.jpg',\n",
       " 'boeqekwsrozphiddserb.jpg',\n",
       " 'dtueatxtbrrcehjvmufh.jpg',\n",
       " 'fxrzdewzagfdgjgbbdyn.jpg',\n",
       " 'hoomonircmwbkdjffqit.jpg',\n",
       " 'lbfqmusqcbznxbsmfkpx.jpg',\n",
       " 'ksejmcvokrlpkzzterlh.jpg',\n",
       " 'xlemtsaroljipnorcjjc.jpg',\n",
       " 'pfgwmqhqcbmqtwbbolik.jpg',\n",
       " 'xruoagtavsnlnilettis.jpg',\n",
       " 'ufxcvhrysncgphgispmv.jpg',\n",
       " 'wivyojxozbmsvfctqqla.jpg',\n",
       " 'vzthctohgqouzgqcyeud.jpg',\n",
       " 'nopsyyohsgeghtjpyegd.jpg',\n",
       " 'nbpyuycopuxyemfwlrhm.jpg',\n",
       " 'vjihkqmtlqkdbejyhbys.jpg',\n",
       " 'phzmroyznjpjpgyozhta.jpg',\n",
       " 'eyxtbporpgiwlehzfddk.jpg',\n",
       " 'xxjsvbduoszfdxwmexfp.jpg',\n",
       " 'vhpmfadhglwdsdtanhsf.jpg',\n",
       " 'hdemdfniarvzyqzwvmpj.jpg',\n",
       " 'jbbavdtajchmmothqifr.jpg',\n",
       " 'omeivrfnjmygjmcyppvn.jpg',\n",
       " 'otccvjgpwkzqomrmzhgq.jpg',\n",
       " 'vgxkutijywosoihiiybr.jpg',\n",
       " 'akanvlypwtbrapcieimk.jpg',\n",
       " 'zpvhngtqiyzlgikiopaf.jpg',\n",
       " 'afqfvrgwibqcrjfbxwnf.jpg',\n",
       " 'crkgwppjgvrxpnjyycyb.jpg',\n",
       " 'tkhsnyztqdlumkqfimhd.jpg',\n",
       " 'yaorknwxqixqltouecss.jpg',\n",
       " 'xgomufkwyaftpbnfztja.jpg',\n",
       " 'zkmhabybzalvnezjqwko.jpg',\n",
       " 'xdrxbfqfzyvbrkzplywh.jpg',\n",
       " 'fcimgmoxeaknioizbsoo.jpg',\n",
       " 'gwwofzzexmbtmakrqvmd.jpg',\n",
       " 'uskvkgbycogunduyhuwr.jpg',\n",
       " 'cxnrbbjhcmdkpmdylocx.jpg',\n",
       " 'jomngvtyqkvkwjaetkea.jpg',\n",
       " 'yqgzbpbporopbvpzkcke.jpg',\n",
       " 'gsbaumjwkzlqywlkilgl.jpg',\n",
       " 'khlcazoppxerxshuerab.jpg',\n",
       " 'wbhkdxuaeliteayaledr.jpg',\n",
       " 'aiqzowlyxiidbnkpgjyk.jpg',\n",
       " 'awreplqqfehyjmfprimb.jpg',\n",
       " 'wplpgryrbfyyebqmssur.jpg',\n",
       " 'qappqgtdjlpawtnnwmdk.jpg',\n",
       " 'yktzxymyjbttkstcilzo.jpg',\n",
       " 'nihyjfyzrtqqbndcmkkz.jpg',\n",
       " 'yozsnfobiqohbqxrnart.jpg',\n",
       " 'lzqgfwljvqkxsccpemsi.jpg',\n",
       " 'ymbuhkbfhpxevquipodd.jpg',\n",
       " 'omkpvqcrgckakfhohdwl.jpg',\n",
       " 'fbkpovuvsenwpvziyqmz.jpg',\n",
       " 'fcahmoonfwwsijixrxts.jpg',\n",
       " 'eldfqlunivzyrjkfnkhv.jpg',\n",
       " 'vrpnpywefkhllnyegqbd.jpg',\n",
       " 'isrczaprygredbalmpyg.jpg',\n",
       " 'tkvupyoyfjdpubvxxorf.jpg',\n",
       " 'znhynargezgimvgtitiz.jpg',\n",
       " 'gyhgoyynqfoztwzygoqo.jpg',\n",
       " 'kotgxktvvyqtnbwgzsrm.jpg',\n",
       " 'tjstlbwtrpdabkchyolg.jpg',\n",
       " 'oejgaxwwqbcpcuqvpidw.jpg',\n",
       " 'ptrbyydgipaajrcbgxtf.jpg',\n",
       " 'japndmoxebibgipmsycn.jpg',\n",
       " 'ucwidmzvgtopsszqqwml.jpg',\n",
       " 'blomtfsvkcleppendnbi.jpg',\n",
       " 'kdumivtupmjuppheqpaa.jpg',\n",
       " 'jfpzeepmnomtfvljvtsg.jpg',\n",
       " 'yotkslvsrsaawqinwsmf.jpg',\n",
       " 'gbhhffevokjfswvhauqd.jpg',\n",
       " 'vawpuuwrrnqtwwfwqymi.jpg',\n",
       " 'glbbjyrbxovjdbylpqpu.jpg',\n",
       " 'gttatgtzzwxlhnhmxynn.jpg',\n",
       " 'inykyqfuqyxqshjouota.jpg',\n",
       " 'kuyniwsnpdtuarflpnrb.jpg',\n",
       " 'gxiausisykefxgivmbpx.jpg',\n",
       " 'sredfpmiexpyvlpcykri.jpg',\n",
       " 'mkyvbxadyycceuxtxetu.jpg',\n",
       " 'pgwepyzakpeqoupcrfwn.jpg',\n",
       " 'fjnshkdwtvaxqsfrgsht.jpg',\n",
       " 'zaczevbtygssvkqwzzrb.jpg',\n",
       " 'xhbtwwgewufquxoqkdiu.jpg',\n",
       " 'ijkbqrfpdahybgtcwdig.jpg',\n",
       " 'wsaevefqvhocaqrpuwwu.jpg',\n",
       " 'jcxuxugyulhmugvgmxyh.jpg',\n",
       " 'blrawvjaebzxwjodsynt.jpg',\n",
       " 'slvthighxnbrfatzghva.jpg',\n",
       " 'dgzrnpradzxfjheyunmj.jpg',\n",
       " 'tkomvgggqpdclnneewim.jpg',\n",
       " 'wzvaangjvdxssvntzqhl.jpg',\n",
       " 'nhjoippujafgvpebwxsj.jpg',\n",
       " 'kuddtpyzwfjktcibegta.jpg',\n",
       " 'cniexbopclfsdyelonmo.jpg',\n",
       " 'haartkyidgquinmfygru.jpg',\n",
       " 'svjflmgrpbrgajnrmhia.jpg',\n",
       " 'ofalwawlkyexlixxnfsx.jpg',\n",
       " 'fsqgbsmhpaxvwrgskmpv.jpg',\n",
       " 'tvazofiwmzztpxarnxqe.jpg',\n",
       " 'kllyphkabmdmyukvthry.jpg',\n",
       " 'zdylbnfohnyatvvaoupf.jpg',\n",
       " 'chcgrbxzafglasgeqzvh.jpg',\n",
       " 'lxovaxohvrxebsszwbuk.jpg',\n",
       " 'sgrzlnvtsdlhgihszeqp.jpg',\n",
       " 'uysdjriaxsicpmzblfxl.jpg',\n",
       " 'bseecaukvqtcisxbvgmj.jpg',\n",
       " 'hnppqldiixfzzwuljkni.jpg',\n",
       " 'pjcsagnuppyybsupioca.jpg',\n",
       " 'hvnrxrpmwzofywcwiygq.jpg',\n",
       " 'dklxmipvwtnvdpvxxvmz.jpg',\n",
       " 'iitexsqurvpdcqurldrd.jpg',\n",
       " 'uiapikbqzjeqnqwppsat.jpg',\n",
       " 'nrygxzgwgxqsjaeufjrn.jpg',\n",
       " 'ywskfsifnnoyflrwngjw.jpg',\n",
       " 'whtyiqqcxahjmxvmeqxz.jpg',\n",
       " 'ncekqxqljgkiziahmxmv.jpg',\n",
       " 'eieihnlfsqhxzrqkqcnk.jpg',\n",
       " 'nyypzlolhszpukaxkxyy.jpg',\n",
       " 'qqihxyfbcglqrrjvxblv.jpg',\n",
       " 'jdwpwxdfpugfljwgliei.jpg',\n",
       " 'aygrffxmjthqmvgrfymc.jpg',\n",
       " 'zaeesraeycxqlzseltux.jpg',\n",
       " 'iycckrvijbhjbxwkslzh.jpg',\n",
       " 'tbunyncrehgpdkfthvjz.jpg',\n",
       " 'fyfryxsirojtridubsxk.jpg',\n",
       " 'pstivllwlbewisuvmsle.jpg',\n",
       " 'iqwewzrfvrgpbsvuovjr.jpg',\n",
       " 'kdufazgnpfakynsgobwc.jpg',\n",
       " 'nxiyilbavhgjzauwotju.jpg',\n",
       " 'lzxjqscbgkwsxmfrgcew.jpg',\n",
       " 'kagouracdzwrjjxzzedi.jpg',\n",
       " 'roltouoycmsycokxelni.jpg',\n",
       " 'xygdwqjgiwaidmqswzbd.jpg',\n",
       " 'dtliekvcpkisbvegbqqx.jpg',\n",
       " 'mhkhknlxtikgodiyqhjt.jpg',\n",
       " 'wvnaxdhcpqmzzjxjfeng.jpg',\n",
       " 'ynupxgfjrgbzekdcrmyc.jpg',\n",
       " 'abandhxlopftprjlxqus.jpg',\n",
       " 'hbwmlcnqgapjsqwqueuh.jpg',\n",
       " 'sgnxzfjghasvwgvnicha.jpg',\n",
       " 'hyplouxsrwzfhvqlsmgq.jpg',\n",
       " 'pvxhbjuhhhyqcfasdvks.jpg',\n",
       " 'danoffozmjnnilrsznru.jpg',\n",
       " 'ayzcuqyhlttusvfbuxfk.jpg',\n",
       " 'rqblebigzpzjiyiqkakg.jpg',\n",
       " 'ptrdjsintwvozpiurivz.jpg',\n",
       " 'hpjiqmcizazxfdnqfxeg.jpg',\n",
       " 'hlvgqxodfdfirzmdtloo.jpg',\n",
       " 'hixsfxepqabzliudiypk.jpg',\n",
       " 'yjiphilkxncckgtkjbdr.jpg',\n",
       " 'rukpldpdydifmewpiong.jpg',\n",
       " 'gluhuphnsuzjpnaqyqpe.jpg',\n",
       " 'tduxjskwwwndtspcqzap.jpg',\n",
       " 'lescroflrkshgsouvlme.jpg',\n",
       " 'nzskzydtayjbfddcbhys.jpg',\n",
       " 'hxajzenjwqrvylcufcsk.jpg',\n",
       " 'kfprgltlfjctyexogeyc.jpg',\n",
       " 'tjkrapjkrpwwvuwzfyic.jpg',\n",
       " 'hsdhjekkbxftujnjcqid.jpg',\n",
       " 'ukdldtnczgmbsrawsrzd.jpg',\n",
       " 'dcfdubsygrgmekyqnmzd.jpg',\n",
       " 'lkntuuazioqbdipcajli.jpg',\n",
       " 'wivcrvjtarvvlefgkgfl.jpg',\n",
       " 'jichipnpfhtbwtdahlgw.jpg',\n",
       " 'ggphqplpgokfqcwerpsx.jpg',\n",
       " 'ftdnxuuqjhhdzkfoqgys.jpg',\n",
       " 'wmagxstaugvmkgtgdytt.jpg',\n",
       " 'ygvyvfvbcgdanhagbalu.jpg',\n",
       " 'qmtnybtkenwwtinzwugo.jpg',\n",
       " 'nwfatbumhkwxriuvnxfw.jpg',\n",
       " 'hphazeehzozjsvtaqjfr.jpg',\n",
       " 'xpkvvgnpabxxfwzkmzke.jpg',\n",
       " 'jkjhtsccdwyiwdvsaiyw.jpg',\n",
       " 'zjyxpxwmzlaizqwdjppo.jpg',\n",
       " 'vaiuudjdicdkmoebevsa.jpg',\n",
       " 'pxkzzapxcipaapstjrew.jpg',\n",
       " 'vmmomzpdamktvchpgltt.jpg',\n",
       " 'uezudbemqeitcpptiorx.jpg',\n",
       " 'izdibupfojjbpczberuc.jpg',\n",
       " 'gevywiuxabnbmybqisoc.jpg',\n",
       " 'bcwwuaqsveiuczntbjmt.jpg',\n",
       " 'vbmyensrdjtmsfteayzj.jpg',\n",
       " 'jvzextzhzydyrlugzido.jpg',\n",
       " 'ihngsftcivhccuntnjgr.jpg',\n",
       " 'nkfztwdescqruzzvczdc.jpg',\n",
       " 'tcttviiuudpypfnhypgt.jpg',\n",
       " 'qbmdmmfkdxfqqtomwwwb.jpg',\n",
       " 'dmvomasxffgiuvqxmxbk.jpg',\n",
       " 'klqcyikcpsjrabzwcxtv.jpg',\n",
       " 'yiugcojrisqkjilmbdrm.jpg',\n",
       " 'fipejwlrtkxollxnprzj.jpg',\n",
       " 'dubrmsdgeiyebhrcyqoi.jpg',\n",
       " 'icyocsjzhashmudkoyfl.jpg',\n",
       " 'dydeyaafsmhatbnqhnnn.jpg',\n",
       " 'jqkhwixzrwbiidxnocch.jpg',\n",
       " 'sqbadwkkdtuuzsygaouq.jpg',\n",
       " 'wvuqtxbikyfnoqcjoggm.jpg',\n",
       " 'rouxvayiimhifnrhkwbs.jpg',\n",
       " 'dujhllhwjqvvgcbarumn.jpg',\n",
       " 'tfwvgkkhtbkkhkhmvrhx.jpg',\n",
       " 'rqtjhokxiabfcjgmmaaa.jpg',\n",
       " 'zpyntmmmlqxbzcmhvrrj.jpg',\n",
       " 'rrlwzsxschpjywaxwcvo.jpg',\n",
       " 'jmfdssqwrwcgzrgtkltv.jpg',\n",
       " 'pycczscuxpoqzgsxcyqu.jpg',\n",
       " 'kfspoaosqjubllrvjoui.jpg',\n",
       " 'osjyfsphjlgfrdvfdbyf.jpg',\n",
       " 'udcvilgctsujkdswehre.jpg',\n",
       " 'tpryacyshlljsekmcqxt.jpg',\n",
       " 'gyrmuvbhfeizmuoulbdw.jpg',\n",
       " 'ivechjabxbnrggxupbqt.jpg',\n",
       " 'jnocduzaxzbjbkpbwuzv.jpg',\n",
       " 'gxtxmpjuhiaduucwvxgw.jpg',\n",
       " 'bqbrichbbblrzvmdbaug.jpg',\n",
       " 'mqnbplzrppcingaiwmbn.jpg',\n",
       " 'xgnrobgfkpickohptpsg.jpg',\n",
       " 'knjurnaswwcloiaephrn.jpg',\n",
       " 'mniebmfkqwhymaxdyeyp.jpg',\n",
       " 'mwnqvatqvpslsmetsvuc.jpg',\n",
       " 'srotnzhvbvttidsichkf.jpg',\n",
       " 'kcmjfhizfnbmmjueqxjs.jpg',\n",
       " 'yoxfhnqyweutohlgsnzp.jpg',\n",
       " 'wgkyeozsgbzlivqrplwn.jpg',\n",
       " 'fgqlsrgvotxvuufdyzep.jpg',\n",
       " 'jvbwuhyikrpeorpgvahz.jpg',\n",
       " 'qflgblozktkqwondybdl.jpg',\n",
       " 'gopvpukslowisxjkdqak.jpg',\n",
       " 'unclehmlszhhonplbwxe.jpg',\n",
       " 'ixceesjeyvkpcdzfxflq.jpg',\n",
       " 'wtkzbmyvwhkkpthdjtle.jpg',\n",
       " 'siqtxczcjodabpwhuqam.jpg',\n",
       " 'svfezbpplldugbofeleb.jpg',\n",
       " 'zcxuztyxeseoymkddvwr.jpg',\n",
       " 'jtasdbhqqvmdqlysiumb.jpg',\n",
       " 'llzjnynyrqiarzfsoofo.jpg',\n",
       " 'xyqrzjtsejcczfhuhbjk.jpg',\n",
       " 'jtmbikvqaxgacsbwknjl.jpg',\n",
       " 'axplgypvtlxbsdwjjlug.jpg',\n",
       " 'agutwifakhbgxlhymjmd.jpg',\n",
       " 'xuctdyfnwpzbyyifqlxf.jpg',\n",
       " 'vihkdrddwahhkiadtegn.jpg',\n",
       " 'sajspxbewimptmtuccji.jpg',\n",
       " 'lvhavyyxhxiuspibsinl.jpg',\n",
       " 'gzajtcrsiafvgdyibayw.jpg',\n",
       " 'mrmsvpogsplbxgdpfabb.jpg',\n",
       " 'njzdlyccqqnlsdmaosqj.jpg',\n",
       " 'ismwvunjuegpkyrgltnw.jpg',\n",
       " 'rwdqxwbdrociybddxvde.jpg',\n",
       " 'xjzxfrqhofsroooqadzp.jpg',\n",
       " 'cibphqookgxpunhixtfw.jpg',\n",
       " 'mnbwwtgkzfxwtbciwufr.jpg',\n",
       " 'nbfsfvsltgoeykwegppn.jpg',\n",
       " 'shoflkzdawwzgzmkqqes.jpg',\n",
       " 'hjkxjtnrslsvlrwvpgpu.jpg',\n",
       " 'lstmybeqmgugpzwfleni.jpg',\n",
       " 'uripjcvimndbtlbdqcwr.jpg',\n",
       " 'truvllyhounsnmrtjwtu.jpg',\n",
       " 'weogofumrlnjsmlmnmmb.jpg',\n",
       " 'pfsuhhdorizhmvvjmnsm.jpg',\n",
       " 'geyhrxsbdkseqqxtfhob.jpg',\n",
       " 'macdqueaoxmuwkewlbse.jpg',\n",
       " 'odnkinloogdmrhnnvuwm.jpg',\n",
       " 'qhgybafivgrynqphisug.jpg',\n",
       " 'urbwlosixcxosqjxmlha.jpg',\n",
       " 'ghurgmcvxtlpmzsquzga.jpg',\n",
       " 'tvdjhhokamrfyvrxsyev.jpg',\n",
       " 'dzbipjjtmdeemivycmqi.jpg',\n",
       " 'uczrpwzkgzgltvamjjpz.jpg',\n",
       " 'qyozadgowbdceloqzkfh.jpg',\n",
       " 'jqkcxjxprzaeayvdsjux.jpg',\n",
       " 'njfdsfxbpkfaovycrwgi.jpg',\n",
       " 'jsonxrhrjdgdijwztxet.jpg',\n",
       " 'pooojilfsvnetfwroizb.jpg',\n",
       " 'prquldzhxvoylirdlyhj.jpg',\n",
       " 'rhtellcflaxlughagbex.jpg',\n",
       " 'kahlhczhsxppcrkeqzew.jpg',\n",
       " 'dqazkpoamgpqvxtvvpks.jpg',\n",
       " 'biyybpoynanqghnzzyqi.jpg',\n",
       " 'frjjliypckfwcmncdpfx.jpg',\n",
       " 'pwbzhoyezlcmleyrraji.jpg',\n",
       " 'bbpjuvolqckuljjxcssm.jpg',\n",
       " 'czmcphmoyyxxuptvhszs.jpg',\n",
       " 'fbksyfkgiypkbrhtwsnj.jpg',\n",
       " 'tzmnzcgnesmpmjnuvmuy.jpg',\n",
       " 'zzyuzrypiycsfnutexut.jpg',\n",
       " 'usejcaibghnroxzytbhd.jpg',\n",
       " 'ewoapovaqmpejctoeeoi.jpg',\n",
       " 'fxwatmspdjipxeiffkeh.jpg',\n",
       " 'sbwmyzipjnzzvasnwrhp.jpg',\n",
       " 'ocmvomgrwnpyoetyhfxk.jpg',\n",
       " 'wvegchntukbrtrraatyz.jpg',\n",
       " 'ihnvofoqdaiyhytcqwpq.jpg',\n",
       " 'mqclejyigvusvetyprja.jpg',\n",
       " 'ruhhitkpumeqhuqhouvv.jpg',\n",
       " 'guxblywgbokiumuakfrd.jpg',\n",
       " 'ghpsywvpkbynnyekceyu.jpg',\n",
       " 'nwubwlrmecqnebmlngrz.jpg',\n",
       " 'minboilhkhcmzktiowuk.jpg',\n",
       " 'jesmpqzpxfmxoiimgkmz.jpg',\n",
       " 'nekaiosmunoxbcahdtzb.jpg',\n",
       " 'zigjojjmeslgedmanhmv.jpg',\n",
       " 'pafvoxmeagkkbicdwjhp.jpg',\n",
       " 'pnejlarafkdwizloygwm.jpg',\n",
       " 'jqzsfardjjhifackqtnj.jpg',\n",
       " 'cylzmtqwpoalsjcsjvok.jpg',\n",
       " 'pbarimgspfeistopwnrx.jpg',\n",
       " 'wbrgusajavsaniazatcq.jpg',\n",
       " 'vbpmvwdonsvmgeuekvws.jpg',\n",
       " 'ebtledruubidxflchlfz.jpg',\n",
       " 'aaashhimmhraddpwwizz.jpg',\n",
       " 'mbqiooumowmazwxrmrpe.jpg',\n",
       " 'uqacgdhliymtfcrghnov.jpg',\n",
       " 'hcidpeyxxmejahwtrxad.jpg',\n",
       " 'qsfdjvvwpmzxpfkjgzrw.jpg',\n",
       " 'encgzjdeqsdgrhdmgrqq.jpg',\n",
       " 'ieyaggnwbvcnbzvkrrhv.jpg',\n",
       " 'vohehpmwoqtzggphvdut.jpg',\n",
       " 'vtopqjjzlwbxxrbnuztv.jpg',\n",
       " 'ohzpvyiwocsqbfpvfril.jpg',\n",
       " 'buhzcpthscmezslwhzod.jpg',\n",
       " 'ibqbefgvwxvvhtrvjoix.jpg',\n",
       " 'viumomaehoxhsxujsmkh.jpg',\n",
       " 'myhmxzntqsrenixihonm.jpg',\n",
       " 'bpodlamthxfgsmapyaxl.jpg',\n",
       " 'yxndydhbbukwfmgdsltb.jpg',\n",
       " 'qfmpryjzlexohcuxorlh.jpg',\n",
       " 'qivuqfqbuoytdbatjcdz.jpg',\n",
       " 'tjcrvuchqnjccumezevg.jpg',\n",
       " 'jmfotwbfpxplvchrxqmu.jpg',\n",
       " 'pnrsmstkcwboxhemyqfg.jpg',\n",
       " 'sthzgoiadmahnftoxpsg.jpg',\n",
       " 'lafedlrbdbmpxbcislbj.jpg',\n",
       " 'aznjyowotsqgqlemmgvl.jpg',\n",
       " 'vmbgagphdktnoumzdytj.jpg',\n",
       " 'arsqmynhhwmolxgsetzy.jpg',\n",
       " 'tlyetqebsripsvdmnrlr.jpg',\n",
       " 'ndbmeehndxdjimsltcmu.jpg',\n",
       " 'smrsfylgxuamtsbwtaqg.jpg',\n",
       " 'xdvawuskypcjopwsmxmx.jpg',\n",
       " 'aknxfrkantjgovrmpbha.jpg',\n",
       " 'gxirhkhrqiueaizrkzkt.jpg',\n",
       " 'nvlzejzmrmmwldqfyjjj.jpg',\n",
       " 'pnlqbezevkbtznqaarlh.jpg',\n",
       " 'gxzinoghaqrkbclxvdqa.jpg',\n",
       " 'otovrmpvmkerptmcmanr.jpg',\n",
       " 'utyicyiwtdifxmiuaukb.jpg',\n",
       " 'wrtnllftbtsjdgzzaaey.jpg',\n",
       " 'jcakrvbzvepjoudqtmtq.jpg',\n",
       " 'fgwdtmjoazwljselgszt.jpg',\n",
       " 'wdolbidyfypvgepsklaf.jpg',\n",
       " 'ziqqrimkkyzzmomdnzdf.jpg',\n",
       " 'lmqfdnganrmzblpyavlz.jpg',\n",
       " 'jhfxtchpralahlbnhtvq.jpg',\n",
       " 'ssmroxlosmlukcxboqmd.jpg',\n",
       " 'uvfmiyzjnfslplvalapa.jpg',\n",
       " 'jtaloqetfiekrujuhntv.jpg',\n",
       " 'wzoawunkgvrbjzxkkhrl.jpg',\n",
       " 'gzajxhysndezvxzzgbhf.jpg',\n",
       " 'slbpvltwildihwczwnqk.jpg',\n",
       " 'kyszkujhkongjmuopqei.jpg',\n",
       " 'ywgrelztqcnxvajyzrgp.jpg',\n",
       " 'ziqclrzvgkfngtfohybw.jpg',\n",
       " 'cnsijmuvaxxlooflmobn.jpg',\n",
       " 'sbpzeughzeqlnprhhduk.jpg',\n",
       " 'qddtonvlhlvoxinttiiu.jpg',\n",
       " 'gmwmtkxglxitzremmnhx.jpg',\n",
       " 'suunfihxosevvghnekjm.jpg',\n",
       " 'gkzenkxbbcryteofhutg.jpg',\n",
       " 'jwdowjimpxergmdkhrew.jpg',\n",
       " 'xaqpcgisghlurzgjgwdt.jpg',\n",
       " 'oudnchpukzaskkvipyum.jpg',\n",
       " 'pioecvibxytttphgxcvv.jpg',\n",
       " 'cedjdbnxhffuntavfxhp.jpg',\n",
       " 'hwvfkspwcdztjjpviyvx.jpg',\n",
       " 'mwygzzgtqprvvcjcprku.jpg',\n",
       " 'wykwfyyhjeqccffqflrs.jpg',\n",
       " 'uerjvwzieavjffbffwog.jpg',\n",
       " 'abqpxxfezrmhictmumto.jpg',\n",
       " 'fygstlntmvtxpwlrnbve.jpg',\n",
       " 'vkrlyqeacobjyawpswcp.jpg',\n",
       " 'glwwrqaebhifkkbecjoy.jpg',\n",
       " 'fhudxcjrtrdgbgqgxmob.jpg',\n",
       " 'rmywtcwfckxbgdxuutbk.jpg',\n",
       " 'uouyibxklshptntcyddj.jpg',\n",
       " 'mlssxmplcfdyfgavdanw.jpg',\n",
       " 'kqnkyvaolhgatnccpgto.jpg',\n",
       " 'vpxppyxnqxoerarvedpl.jpg',\n",
       " 'munfgdgqhgcaxfnpqauv.jpg',\n",
       " 'abxgonaqteakrxsirlxb.jpg',\n",
       " 'suykoklqfhsxtpewuciq.jpg',\n",
       " 'tcaelpwydgcvhhymalyz.jpg',\n",
       " 'vqlsodnkcrdqrjsndptw.jpg',\n",
       " 'ghpdaabphutzeysvgikw.jpg',\n",
       " 'vtubiwpxtkxsntavlcdl.jpg',\n",
       " 'qbkwgutpfkkjqjffwili.jpg',\n",
       " 'ebjertghihbmgetbvsuf.jpg',\n",
       " 'nitarxrumrkgdnwlumol.jpg',\n",
       " 'ltngafajgtjzuhbbzyer.jpg',\n",
       " 'vhqddpbnrqcsncvhvmdx.jpg',\n",
       " 'uejquecjmsdkxttxrsur.jpg',\n",
       " 'fipuphprzemipxpqrsri.jpg',\n",
       " 'eloiucjlfdhfqxurmzxt.jpg',\n",
       " 'teoinaiccojwfocldyrg.jpg',\n",
       " 'lzumwlzlhblmnjbnvpck.jpg',\n",
       " 'cqihjcdhzyshtimwsyxb.jpg',\n",
       " 'hdwqbygifdavmbndyxiy.jpg',\n",
       " 'ogonlxocdeajweyanxpi.jpg',\n",
       " 'iqvonsajmooqwvfmgigz.jpg',\n",
       " 'qbulgtniiweknhqssjmp.jpg',\n",
       " 'ohspfkpdsumwjkjbtagb.jpg',\n",
       " 'ahnamimqdfqoqdnozabc.jpg',\n",
       " 'wkeckezumecvearndshf.jpg',\n",
       " 'tmquainyqcrktvlbltji.jpg',\n",
       " 'mixmkzblryxvdhfttlcf.jpg',\n",
       " 'xaywyokfejilnvzgkxcu.jpg',\n",
       " 'iuzrldxvpcwvgtpuqzyx.jpg',\n",
       " 'ekrcbvpixiwmyjontrjm.jpg',\n",
       " 'qkxzfeuzxyjumvhpizoh.jpg',\n",
       " 'kjphmjbjqupfvlulwiwq.jpg',\n",
       " 'zskxqckslyafafyuywlv.jpg',\n",
       " 'wxfmftusyhukzynrxvrp.jpg',\n",
       " 'msnekbrjrfgcadytyjen.jpg',\n",
       " 'awoxtwhtqfmokydcgylb.jpg',\n",
       " 'lpeggmvqwxkgfcfixwfj.jpg',\n",
       " 'dhkqknpuzczwnmyuckku.jpg',\n",
       " 'urlzxaszwubzojlqabhd.jpg',\n",
       " 'dscgijvlkuqppivmuyii.jpg',\n",
       " 'pzgjqryzfqdzrrzrzftp.jpg',\n",
       " 'afqwujeakiguycfneifz.jpg',\n",
       " 'knfvhlcjavgocjbixigl.jpg',\n",
       " 'rbgxtpidctdwqdflewsu.jpg',\n",
       " 'ttqfmxeritmiajoyhgwb.jpg',\n",
       " 'rkhdmvlqqdvaowrvcvgz.jpg',\n",
       " 'aljjqkgzlxvxgfpechbj.jpg',\n",
       " 'hstazijyxyxxyqhhcdms.jpg',\n",
       " 'thvswqghjrlxmxwticpw.jpg',\n",
       " 'tjcimvhxkobszhmpurfo.jpg',\n",
       " 'arehwmfesergzvjsuimf.jpg',\n",
       " 'iecvwynyqwqgpwfbmlol.jpg',\n",
       " 'sirwjkjxbsibeooffinz.jpg',\n",
       " 'qgvudppulfkfqgmqftyu.jpg',\n",
       " 'eclikbukgaziqzuahzxs.jpg',\n",
       " 'ornovlvddxwnwadremqf.jpg',\n",
       " 'tdvnmqyudhxnwblibgpw.jpg',\n",
       " 'cuwqhrxztscigilkhmut.jpg',\n",
       " 'cpdwkzgaipsvyqggxrso.jpg',\n",
       " 'mbwgycmommanhwlvhveh.jpg',\n",
       " 'azwpkbwoicynahdruhun.jpg',\n",
       " 'hopattouuzhpahprbroo.jpg',\n",
       " 'jkncuomgjlkleppkcxgs.jpg',\n",
       " 'vjceklrpqkqcgxlwdtgm.jpg',\n",
       " 'hjncqqmkvlclkhewcgxa.jpg',\n",
       " 'hbruvboflfvyxmdjaqiq.jpg',\n",
       " 'qdczdkvocnjavlsdwnxq.jpg',\n",
       " 'zvbyuwaaxlzmztpkeypg.jpg',\n",
       " 'npuopapkcclcjuzronwj.jpg',\n",
       " 'szojpzmjyzzmykcexufv.jpg',\n",
       " 'fqfqawrmsbnkfyikyuxg.jpg',\n",
       " 'qmhjjfsfxolulgfnxblk.jpg',\n",
       " 'cyqkjtcahshjunjnrfgj.jpg',\n",
       " 'bwjegoppipwwwwvofymr.jpg',\n",
       " 'tcursxmpjwwsjkyyincc.jpg',\n",
       " 'aidxouvyhptpyhwtgooa.jpg',\n",
       " 'aladjjhlunpjdwsxlwus.jpg',\n",
       " 'wzdosqxldsczmddhgrfh.jpg',\n",
       " 'djiolqslpbycjfbxtqfw.jpg',\n",
       " 'eotxlvwxsfctwbfpzjtt.jpg',\n",
       " 'evekchrkwacihgdojnlu.jpg',\n",
       " 'zysyvzhsqkcbpeapnpsx.jpg',\n",
       " 'rhizhdqluuomgyawfwof.jpg',\n",
       " 'bjxgynrrsnoykgaenqqb.jpg',\n",
       " 'vdtdrzyqbrjzygxaoqof.jpg',\n",
       " 'hsycjvdogtaemwibqohy.jpg',\n",
       " 'nehtsqdddepfdyiqjmcx.jpg',\n",
       " 'mntjrmccbwjdfllnxvcy.jpg',\n",
       " 'rfqsheokjwaqmckmpptu.jpg',\n",
       " 'tobktelugcrvfbrvssyd.jpg',\n",
       " 'haboiqflbswtcdtltadb.jpg',\n",
       " 'epfijfwqqzjiiiicsyhl.jpg',\n",
       " 'xddxwuzmxeczfmyfpxmk.jpg',\n",
       " 'kofmfefppondoqgqyxvc.jpg',\n",
       " 'cmttofaekjbigvdhwhdw.jpg',\n",
       " 'qxkgwdbzshjmjitsywzt.jpg',\n",
       " 'avkzwisozokqctpgadez.jpg',\n",
       " 'svvxpxirblfzavtatadb.jpg',\n",
       " 'qeuisdtwmbjqsbygncfm.jpg',\n",
       " 'ejhclrsjgkblqfeuoyjg.jpg',\n",
       " 'exfadvidiytkkibpoqpb.jpg',\n",
       " 'srlfhsowzibqlgooaixs.jpg',\n",
       " 'jsfawygjbsbvucdbrple.jpg',\n",
       " 'uewdyxocfklephpiwdze.jpg',\n",
       " 'mubcvaowhaeeeqvbytfo.jpg',\n",
       " 'qsmhticwxvzdlvbpofbl.jpg',\n",
       " 'rggflquyotqnzdbblxbg.jpg',\n",
       " 'ezttuzpzcrdvvmuwwswr.jpg',\n",
       " 'gmmwpvklesgfpiollrbj.jpg',\n",
       " 'qefvyvgdcdbiiiukvjnd.jpg',\n",
       " 'jpalsrofdyzrlusfdpvz.jpg',\n",
       " 'ppvlbcluanaumrbzkciy.jpg',\n",
       " 'emnmgawpjvxkzswttoif.jpg',\n",
       " 'zgfnbhmrgnyzlytsejoz.jpg',\n",
       " 'pbmobonuvboehwfxjenp.jpg',\n",
       " 'pvsyuhougflwjxpmjqlb.jpg',\n",
       " 'lczstptbenpvpaksjfsw.jpg',\n",
       " 'ayssocvntqmtwsvagflb.jpg',\n",
       " 'bnqpzjudyezrwpntgiuy.jpg',\n",
       " 'xsazfpkkhboqlfariqgo.jpg',\n",
       " 'msjegfsiiaymcaniybra.jpg',\n",
       " 'tpeyudsqwtznrbljoueg.jpg',\n",
       " 'rjnopqnnbxeibznbnrtj.jpg',\n",
       " 'zylafosvosbbavlmkclt.jpg',\n",
       " 'mihpksayndbhyledtwtk.jpg',\n",
       " 'tsqesgollgolodwerzpo.jpg',\n",
       " 'ouqgzzzvroioavdjrhcd.jpg',\n",
       " 'qzdlogxrpjfecvtueqxn.jpg',\n",
       " 'pjbnwvkhfhkvldpzviac.jpg',\n",
       " 'yohvuboliwgjynowkylv.jpg',\n",
       " 'dnpkgypaoalvcpijyhff.jpg',\n",
       " 'krrgwghphxdqzimwlwpf.jpg',\n",
       " 'mpfmdvkarsgfgmakudpe.jpg',\n",
       " 'hzvrqlgpfeaqpuuofcow.jpg',\n",
       " 'ifngyynywcodcnbfueif.jpg',\n",
       " 'oqyhlpexyvnokavmrqxi.jpg',\n",
       " 'dlscnrcpaswczzygkcob.jpg',\n",
       " 'bvjyxwpuhbjfuhahsdus.jpg',\n",
       " 'naqolhxtnkdlusixzcyt.jpg',\n",
       " 'rghrmtwlhdbkznmhyqpr.jpg',\n",
       " 'ksjibszufutjtbxncaot.jpg',\n",
       " 'omlpahvcscqchadyijue.jpg',\n",
       " 'gpzwrjntfbyflyfhygfg.jpg',\n",
       " 'atwcgwrdumpzumwoddcm.jpg',\n",
       " 'dxmrvzkhjrbausjxyskt.jpg',\n",
       " 'iutryqcotespiruamdqe.jpg',\n",
       " 'kuotaatvtphaesggakmw.jpg',\n",
       " 'nutuupkjalhbtemmdvwi.jpg',\n",
       " 'hxpdekogfmprnexjywro.jpg',\n",
       " 'qjojmxfxuwlqfvpthhji.jpg',\n",
       " 'rmuwutvutuohhvvotrrc.jpg',\n",
       " 'qqesjgougzbndrkxyska.jpg',\n",
       " 'bmbvzdjwngplmwzvgqlr.jpg',\n",
       " 'tibitebzeikhieebvgxb.jpg',\n",
       " 'zaefgllnaglxvfknyxaw.jpg',\n",
       " 'vpnetokbtrdqmxlgstzz.jpg',\n",
       " 'itpwrgffzqfncldebwrk.jpg',\n",
       " 'klpsdpapwahcjkfytoku.jpg',\n",
       " 'gxfldjmkhgmagudzcwsl.jpg',\n",
       " 'hmipgnlufargkrryjfvj.jpg',\n",
       " 'trrqacwtwupuhgezxnxu.jpg',\n",
       " 'pmyjhvcclprdrmsbiurv.jpg',\n",
       " 'zkdrxrtgstqrzzbqsdjw.jpg',\n",
       " 'mllgsvklomcezelcivbm.jpg',\n",
       " 'uauunusvffycgrdejudt.jpg',\n",
       " 'qnpcfzbrmufdevtbubjo.jpg',\n",
       " 'rxycfhtlhjkpjuhlzpwf.jpg',\n",
       " 'xqffhpfjxxmuqffttcbm.jpg',\n",
       " 'ssjqchasmnowtykrkaer.jpg',\n",
       " 'zeydsrqlgfhrkgpsdyft.jpg',\n",
       " 'izmtijzhlmzgneikixja.jpg',\n",
       " 'dvaryqbgkhkjwaigjgvk.jpg',\n",
       " 'ojaujwcyojoxsaewcbdr.jpg',\n",
       " 'qlyvvbsvznypmfbxxmjq.jpg',\n",
       " 'lyvwvxcwgldxcaygoxsx.jpg',\n",
       " 'qbzlnbxdjrkxjinafmpp.jpg',\n",
       " 'tylytzjjipgjgaayadpw.jpg',\n",
       " 'cuzjjigtbzwpasarbhju.jpg',\n",
       " 'eetsmfkldpduenmunpby.jpg',\n",
       " 'boiajqupryeplaalddaa.jpg',\n",
       " 'ybvvdqtgyovqmowxjjft.jpg',\n",
       " 'xabltghfbexmvodwbvrn.jpg',\n",
       " 'shmxydbgkjetrymsvely.jpg',\n",
       " 'zbaqmjetajlikzuxikez.jpg',\n",
       " 'rjoyfxjykviwpqzlewyb.jpg',\n",
       " 'rnhgpuvjvydxzuhydwnw.jpg',\n",
       " 'wkckglpqoszjuevzzhjo.jpg',\n",
       " 'sssxfphnntlmmtizglkd.jpg',\n",
       " 'tzkpmzdicgkdqlzzudfe.jpg',\n",
       " 'zoepapkbbrhljukyjqdk.jpg',\n",
       " 'lpwvxiyedhmbxspsnfze.jpg',\n",
       " 'llwskgfrjhcvcdqsteaq.jpg',\n",
       " 'thbbzgymhxcpoquhpifo.jpg',\n",
       " 'rbnglkalpwkhtudhetyy.jpg',\n",
       " 'foklxsetvswycdyitfmg.jpg',\n",
       " 'yyskpkqzkectuqqghjnn.jpg',\n",
       " 'appibdhruyoazfauvdbe.jpg',\n",
       " 'ulpdzphdriwnhxuojxux.jpg',\n",
       " 'bcixzhonifcmpumhlliv.jpg',\n",
       " 'rhplabigwihpbwgohhpe.jpg',\n",
       " 'vvqcjytdrozbrzcusvoe.jpg',\n",
       " 'zrzrdwontdmbocfilpnb.jpg',\n",
       " 'meqnpapvdbqvmykxqatj.jpg',\n",
       " 'kfakjitsnyhuarcwrukr.jpg',\n",
       " 'hubfmohclnzamtylbhsr.jpg',\n",
       " 'bltaagoyblepeqeunvpc.jpg',\n",
       " 'cqnozqibixdkmvkoxdes.jpg',\n",
       " 'psubhtcztauyfutqnjzf.jpg',\n",
       " 'cfbzuwvggfmivijtqqve.jpg',\n",
       " 'zfzbrbubjsobiouixpky.jpg',\n",
       " 'otxhutqscsnojdbcxfum.jpg',\n",
       " 'uzhdlomaloyukxgvemxk.jpg',\n",
       " 'ihfcipeoqjehbnyaafay.jpg',\n",
       " 'qojztmgxztxzcrahcwno.jpg',\n",
       " 'xzfniadrhprauwcybkjh.jpg',\n",
       " 'pudbfwzbknfgsozcpawi.jpg',\n",
       " 'mwacwiqqiomowipcxuwf.jpg',\n",
       " 'ptlzlyggordhuwihmdad.jpg',\n",
       " 'xxklxvipdeysisqqztcp.jpg',\n",
       " 'zpnucsbvdjelgmfbxbvk.jpg',\n",
       " 'xpfjtnnohnybvspxfqwc.jpg',\n",
       " 'horoccyybmhrbzpnvdcs.jpg',\n",
       " 'ysbeucszfhujncfsmlft.jpg',\n",
       " 'iuvgppylcncuyovytnzv.jpg',\n",
       " 'zorpqkywzzxqjhykxqfk.jpg',\n",
       " 'uchjehfaongamznkymkk.jpg',\n",
       " 'qpyorgzvdxbteealltpd.jpg',\n",
       " 'sktvrgbpwmsbgnltynuy.jpg',\n",
       " 'nunmeylitcwxinrgaeqc.jpg',\n",
       " 'amkirsjqmhpirqnyunal.jpg',\n",
       " 'fvpclhombmwpzoueupne.jpg',\n",
       " 'lkakytvcpuetbxgglnmd.jpg',\n",
       " 'nhpgpbzjcovhbojmlknm.jpg',\n",
       " 'aceygeopsfcvrykdindy.jpg',\n",
       " 'rdfbihdabpmckjgiotqq.jpg',\n",
       " 'stwpkmumyvplhrdkfrhi.jpg',\n",
       " 'zhzqygiapxydnwpnjolm.jpg',\n",
       " 'virmxxhatfamswkreypj.jpg',\n",
       " 'vjsyvyaacfkmqcpvwbmc.jpg',\n",
       " 'sxlzbkzghgzuyugruhrm.jpg',\n",
       " 'wtuudzxfuoaadgmdsrin.jpg',\n",
       " 'llyrorjtmzkyqgucjkiv.jpg',\n",
       " 'rkdijmpbjudzfkrksbcd.jpg',\n",
       " 'wuxxpkyayrezsbwdtjrf.jpg',\n",
       " 'djjxeowqkavdrtsbvpss.jpg',\n",
       " 'bmijuwqagfgistatjaeg.jpg',\n",
       " 'xemheyghqkjzsnmxdcxp.jpg',\n",
       " 'kjffkdsjzrtascgorvpi.jpg',\n",
       " 'jnktlntbbzloldzdnalh.jpg',\n",
       " 'zjscnrkypkphnxqyfrnn.jpg',\n",
       " 'lescjvfgmawehzfrdfgf.jpg',\n",
       " 'mcguhqufscyssjnxizov.jpg',\n",
       " 'xagxhzwxejndleuyidie.jpg',\n",
       " 'lchetrdiwnlvrkpxtfsr.jpg',\n",
       " 'nhffulnvkyogteidukeo.jpg',\n",
       " 'ancfqdajvkxshymsnhin.jpg',\n",
       " 'nvflkqjrihgoxrzyppbn.jpg',\n",
       " 'gixfubenrwbwhpzaasxe.jpg',\n",
       " 'myjxlwowxhjrlnnihprq.jpg',\n",
       " 'reshsfuvmnjifzoourjy.jpg',\n",
       " 'rubyzzhnxnaavuenbiix.jpg',\n",
       " 'dmxxyovwdcroksjirwaz.jpg',\n",
       " 'eqbylbobkaphwcxatjpe.jpg',\n",
       " 'qwgctjomdbtvcwmwbasj.jpg',\n",
       " 'jxflbmaqoyitgyyrpvon.jpg',\n",
       " 'eyodbzhsnhxibwyyvwvm.jpg',\n",
       " 'uvyssouowkhblqejkjri.jpg',\n",
       " 'ygggwsfcdvhhpoxipdha.jpg',\n",
       " 'mtmqbsyoalgogposvpbe.jpg',\n",
       " 'bdnovqrvycbxryyzwhxi.jpg',\n",
       " 'rmateiszxszbskvtkyal.jpg',\n",
       " 'nhaiwzvoylpdrzcxeuxe.jpg',\n",
       " 'lprxwtsrdltgrfgjipzm.jpg',\n",
       " 'ixbmpeicbmriupntkdew.jpg',\n",
       " 'nmebjxccskhvlpbljmjg.jpg',\n",
       " 'xscezvtyjhnncysjtlbx.jpg',\n",
       " 'mnbsjpiuwnidynmtdocc.jpg',\n",
       " 'szbouskhcrkdvotybuey.jpg',\n",
       " 'smrbaqszhifdtpnbnsza.jpg',\n",
       " 'ibvhugthzggvdlmhblly.jpg',\n",
       " 'adosnfrpbukwskpizosn.jpg',\n",
       " 'obkmndxlsadumwrnqpml.jpg',\n",
       " 'meipbfwdswjbsrqgvavf.jpg',\n",
       " 'eirtaqarczfocaigrzqz.jpg',\n",
       " 'snuxktajwkzuvzmjawtk.jpg',\n",
       " 'ocnjxxqqkgvwakgnsuvd.jpg',\n",
       " 'ldzzoqhammdnujwttwpn.jpg',\n",
       " 'umjyyvdaaptmpbdqspxd.jpg',\n",
       " 'egivphszphhqacixiudr.jpg',\n",
       " 'vehaiuwnxvnntuhjphww.jpg',\n",
       " 'qspqdtqotzbirfdledwi.jpg',\n",
       " 'lqtqssezbhtyjtuuwpgt.jpg',\n",
       " 'jsetdwufjumhzeqzonsv.jpg',\n",
       " 'yxhtcuzdgbguntwzniyf.jpg',\n",
       " 'qotxafnzumedjdkrrvyo.jpg',\n",
       " 'rgoifrdjdimwoygtaibg.jpg',\n",
       " 'mopfonqcyiyniwyneleu.jpg',\n",
       " 'pkseyorwwbcfzyzcacoo.jpg',\n",
       " 'alrepkjdjypgxlihansb.jpg',\n",
       " 'lkjydqwtulrjqlzwxyon.jpg',\n",
       " 'krmttsibjbzbgszayobp.jpg',\n",
       " 'olcikwwdpfdkbiwnaoap.jpg',\n",
       " 'gwljxffspdmvlagsanoo.jpg',\n",
       " 'ytunufgdmntafghavpth.jpg',\n",
       " 'vrmlqvjmnbnhtmftgtvx.jpg',\n",
       " 'hdkgxmlfermcodztpkih.jpg',\n",
       " 'cftuzgbjevblvrooooyw.jpg',\n",
       " 'ucinkahuvflvhcuxwwyv.jpg',\n",
       " 'hhunyopkgghhdekpoqhy.jpg',\n",
       " 'fycrleknqezdunmnaqsh.jpg',\n",
       " 'lowypptlnkwssuafqret.jpg',\n",
       " 'jezyoulmptvmtfudismz.jpg',\n",
       " 'vjpdzrljrysulctyztcn.jpg',\n",
       " 'mwovleqdonooiuzctcvx.jpg',\n",
       " 'seiclpncigoikmqsfsmz.jpg',\n",
       " 'kddwbcadmwkzvosfoqew.jpg',\n",
       " 'wcwkefckbxjlcvtseexy.jpg',\n",
       " 'wqbnnmdadwgixxbmvwcj.jpg',\n",
       " 'iqdhzfjllvgubknsyuwh.jpg',\n",
       " 'fuxbaispeqolzwythdsi.jpg',\n",
       " 'zsbaijylekgbhluprruw.jpg',\n",
       " 'buwtamzuxpmgyxsdaeyv.jpg',\n",
       " 'ithrcxubfvnsnncpgqla.jpg',\n",
       " 'kphrdokpvbjvcyeenjsw.jpg',\n",
       " 'uwrsdwgnavvxebinrpoe.jpg',\n",
       " 'foagertouhmhkiwskmwt.jpg',\n",
       " 'sowkuukbftedprkzkkwn.jpg',\n",
       " 'qosxaiklumhkexfvdwdk.jpg',\n",
       " 'ytdhunibzyfszjfasxbu.jpg',\n",
       " 'zyiohxzclobvhtkpmuat.jpg',\n",
       " 'gtfovwlqbufoxflknokx.jpg',\n",
       " 'tpnlypynsmlmwisxziux.jpg',\n",
       " 'jxmgasnzdwuatngxvara.jpg',\n",
       " 'dfdxehcicbnekttupcag.jpg',\n",
       " 'nqvtcumbiwnecwnelfxt.jpg',\n",
       " 'efkdpjfopndxsnqkqzuv.jpg',\n",
       " 'slyyixidmgwnwpeowmil.jpg',\n",
       " 'xczzlenfwdqaknoghsyy.jpg',\n",
       " 'ihgruhyextmzjcyyzlhm.jpg',\n",
       " 'jjgcegweyxbfddwltjwz.jpg',\n",
       " 'pndjuxogxhsvisoujwda.jpg',\n",
       " 'sgiktocvlnsjbogslslw.jpg',\n",
       " 'xcurlsyedtfbloggfvjg.jpg',\n",
       " 'bgiukwxknickapmipprh.jpg',\n",
       " 'vdnkweycpnecygrmqnoa.jpg',\n",
       " 'cvhyyhdlntscrbehmszc.jpg',\n",
       " 'zrpjmkmwwswdfvwftijm.jpg',\n",
       " 'yvltrjqlhqfusfcfrabd.jpg',\n",
       " 'jpegezqdrlrzkemqetpx.jpg',\n",
       " 'wlweqcdhqocoipxcxamt.jpg',\n",
       " 'ocantexflelflozktxqg.jpg',\n",
       " 'llifghevupmeravhepky.jpg',\n",
       " 'ijxfqxytcioymgxrpagu.jpg',\n",
       " 'bcletbpaxiskrrkvkxqr.jpg',\n",
       " 'ohsigkmypgnkouhlgvua.jpg',\n",
       " 'irpifjposlpzftqcsnfy.jpg',\n",
       " 'cbizuapnklfzsjtfytqn.jpg',\n",
       " 'tvgvvovxhlmgadrlrmkl.jpg',\n",
       " 'wzmflsqmkxefsclekygu.jpg',\n",
       " 'zcvkfdaefrupywfouuqk.jpg',\n",
       " 'graqbfrntnzvjiydirnn.jpg',\n",
       " 'tutwjcxtvascnkyzxwlc.jpg',\n",
       " 'rvbmvphokzvhijdndwcf.jpg',\n",
       " 'lgehlnmcspafdfeuxyjh.jpg',\n",
       " 'fztefhgdbytzcwwyshhq.jpg',\n",
       " 'hhydqaicakwkpkytnpzo.jpg',\n",
       " 'eizaobmsqdiieqvdhnsx.jpg',\n",
       " 'wnwdrqsfjtjoivaoducm.jpg',\n",
       " 'kgjixzpiyqmdrnogzxbs.jpg',\n",
       " 'zjvqveehrypggxavhcfn.jpg',\n",
       " 'qawnbtvbyxykjmqgzytx.jpg',\n",
       " 'zvankahusdvhhfxiujhj.jpg',\n",
       " 'ostkzpzbovymgjkmosxc.jpg',\n",
       " 'blenvjtvhffyjgopwdzo.jpg',\n",
       " 'ssjvrrubnwvgtmrgcrbh.jpg',\n",
       " 'hlsficecqlzcxfelbyip.jpg',\n",
       " 'focnrhqibvxxmcnntdqe.jpg',\n",
       " 'sjpcnsylgudseowkufqo.jpg',\n",
       " 'iunibjrrhyxhiyefirth.jpg',\n",
       " 'lwqjjsgkbqmvahdnvbxm.jpg',\n",
       " 'auduuutwpfvjfcselfqr.jpg',\n",
       " 'ipqoxgpktgtjbpreuueh.jpg',\n",
       " 'avrwvxipbllcddtujhbt.jpg',\n",
       " 'bqxsljsunbuzaajrpuhn.jpg',\n",
       " 'tjvtbhptbhpujrjdllqc.jpg',\n",
       " 'yhgpvjmuqgjdrcabsdpa.jpg',\n",
       " 'vvzxozrilsnltnwfscgh.jpg',\n",
       " 'qqdpxsacvopyyujluzva.jpg',\n",
       " 'crnrksfslkbmasihaorg.jpg',\n",
       " 'xaqtqqgcjzultfttkevv.jpg',\n",
       " 'aiiujlpbdrhdeexrsrzf.jpg',\n",
       " 'poctbzhfabijzbexwmgl.jpg',\n",
       " 'zgiehzcxohcjzmblkwny.jpg',\n",
       " 'buhnusythqtsnbhovyfb.jpg',\n",
       " 'jfsflohanwuflzbgxfmg.jpg',\n",
       " 'cqqxkbxexcfiemwnypsp.jpg',\n",
       " 'sbvrhcohxhwupnpqkncv.jpg',\n",
       " 'dpnergikuusdtqvugwfn.jpg',\n",
       " 'fgcaezgfppbrruwhipax.jpg',\n",
       " 'ghpcxfnxmypqjinexqok.jpg',\n",
       " 'esifrclorprqxiydbenz.jpg',\n",
       " 'ytmmtrwyaahbcduhzmxe.jpg',\n",
       " 'grydthrffrnsbtbbuqqd.jpg',\n",
       " 'akbvevuodirunradnmst.jpg',\n",
       " 'kxzdxwpqwypituwehcsc.jpg',\n",
       " 'cdkcskcosjcaedzjeoux.jpg',\n",
       " 'qypwstblhglvrhtqylqk.jpg',\n",
       " 'kcihxyupcvtobhkrlgnb.jpg',\n",
       " 'heneqgjhicxackrmotcs.jpg',\n",
       " 'owwhefszjtqqibrbavox.jpg',\n",
       " 'xmvmodutuayaqxlknhjr.jpg',\n",
       " 'ccgzbeemrqkzxeloyrlh.jpg',\n",
       " 'ugjagemxquogicxcomto.jpg',\n",
       " 'alopcruhhyqckaiuqpeo.jpg',\n",
       " 'uaoniazwwerojtdpochx.jpg',\n",
       " 'qobzzwhgcpqxexpdnvcv.jpg',\n",
       " 'ykwcujnhdcsjqybruoaf.jpg',\n",
       " 'krupzviawsvflzkxycox.jpg',\n",
       " 'lhorcvzjsyfgjqtlsyew.jpg',\n",
       " 'iikuitkepjvojygncjxp.jpg',\n",
       " 'dtmkzvlwrogdnfimhnix.jpg',\n",
       " 'wfrnlcwunzclybnfbqgp.jpg',\n",
       " 'tleriakrccagwgovhkmv.jpg',\n",
       " 'yanndaoldgjlujneybgy.jpg',\n",
       " 'chgowsqneitazllqfhwa.jpg',\n",
       " 'cxcwlbkpyvrdtycoyfpt.jpg',\n",
       " 'yhqqltfamawpdpuskuwt.jpg',\n",
       " 'goytqxwbwaunewzmlwkr.jpg',\n",
       " 'lfnxotartezqjehbzezz.jpg',\n",
       " 'bnwjnvqjkobllzkdnpym.jpg',\n",
       " 'qbecdixhgoapherhogzw.jpg',\n",
       " 'vnbyvjdfbaofzkhqjmyn.jpg',\n",
       " 'jzthazuvvibtnosxvfcx.jpg',\n",
       " 'vcxuwddavancfsqundax.jpg',\n",
       " 'diboursrmkyesrinaqtv.jpg',\n",
       " 'ukukywqidekdiunkczsb.jpg',\n",
       " 'yctqaafwzlkqvlacocju.jpg',\n",
       " 'ygrztcvcjkwpwhzxnufp.jpg',\n",
       " 'wlosttmtzejzxvqovpwo.jpg',\n",
       " 'druwqgzdomczrffeppnh.jpg',\n",
       " 'ksenhdvnzesucngttlzi.jpg',\n",
       " 'lktoqxpbtwxbuagaiwuj.jpg',\n",
       " 'ucytgrutcswprkryfbek.jpg',\n",
       " 'upgdrbocnsqrypvmogjo.jpg',\n",
       " 'tghcgiueggeftlatumuz.jpg',\n",
       " 'kfpesuhxvhutuaooizeq.jpg',\n",
       " 'zhwbnnfzkqrqihnthzao.jpg',\n",
       " 'sijfrgvzgjtnyfouyreh.jpg',\n",
       " 'rgziepusfhwuyuhtiypj.jpg',\n",
       " 'zzqxpwcqjsavptjjrpra.jpg',\n",
       " 'mzuzucelifmgrhkkeldw.jpg',\n",
       " 'cllrjiaehuduykwucgjm.jpg',\n",
       " 'vzzqasxvvnqsbmymtyyr.jpg',\n",
       " 'ivrfzvwdmsvrmdvceamy.jpg',\n",
       " 'yhrwajuqfpcgjhwsefqs.jpg',\n",
       " 'flrstgjrqvvbknwpwlff.jpg',\n",
       " 'aejhoewsqrpnpzdrombw.jpg',\n",
       " 'awinfjboapcadsaevoox.jpg',\n",
       " 'kqucupvsdzszedebcgea.jpg',\n",
       " 'njwisjhctfopqjwwggxo.jpg',\n",
       " 'wkwsufgiymzphyckhczv.jpg',\n",
       " 'wcouypecquxopgflgmvg.jpg',\n",
       " 'ounoblhkwnawmwtluman.jpg',\n",
       " 'tvxoyalflbyjzztacsuz.jpg',\n",
       " 'prdbccbtmewwqespnfld.jpg',\n",
       " 'aecbkbwburkpkuowwcdi.jpg',\n",
       " 'oxzhmkoznluwrsqcgcae.jpg',\n",
       " 'qukuusjnvfyxccmompdr.jpg',\n",
       " 'ameywkpkdydonhpyqkhw.jpg',\n",
       " 'whbymfplrhoygiajyedu.jpg',\n",
       " 'quvlsmdocvslmmmmmwkv.jpg',\n",
       " 'ijdmmdftqdxxxpbqdvzp.jpg',\n",
       " 'kqbtezklkmaifpzdmyih.jpg',\n",
       " 'mxqbkcicjldwdcozmmjf.jpg',\n",
       " 'evwarzymycotmrieatrf.jpg',\n",
       " 'osqdkwlzoklwyjoxisrb.jpg',\n",
       " 'uvrfrhnxdeidhumezszc.jpg',\n",
       " 'qebfyiqebqwvmgnkzlio.jpg',\n",
       " 'uzhczuizytumoxpsfefz.jpg',\n",
       " 'hunozlfghogiwofuvhof.jpg',\n",
       " 'ietrwfxcdpljxxpqycai.jpg',\n",
       " 'necqqnuowxqtczkwimqy.jpg',\n",
       " 'hdfqafbukcbeobrjkfev.jpg',\n",
       " 'dllvuwkghhtoejgxzdmf.jpg',\n",
       " 'mrrodupyxiyqssaxcxvn.jpg',\n",
       " 'pveuikuqjtbsbyvbofjm.jpg',\n",
       " 'kjsnkjgygsuchjaovvfr.jpg',\n",
       " 'oqyuqwfvcraotprnloun.jpg',\n",
       " 'sfpyfnynvyijmkjtotam.jpg',\n",
       " 'aozkrkwkcgnupvmfjcxw.jpg',\n",
       " 'ptqxshvxinxyspxlybyh.jpg',\n",
       " 'qfvalzrpdzgoofkeshne.jpg',\n",
       " 'hikkglsdvnphooekvllk.jpg',\n",
       " 'xbtzrwsqntdjshmyookw.jpg',\n",
       " 'bljsgfkaiwyirsodvkdl.jpg',\n",
       " 'bmzurmaiyrmmtftbhqid.jpg',\n",
       " 'noblgbvxzilbxskhpnwa.jpg',\n",
       " 'oqsiwlmvplzgrknedyve.jpg',\n",
       " 'todhbnwcnamicqcajoup.jpg',\n",
       " 'rclpstyiwbudlvcargdi.jpg',\n",
       " 'lswayszngefiksepbfiy.jpg',\n",
       " 'mbypenzhoqfhpnmkcxja.jpg',\n",
       " 'twvoakywlweztniznyes.jpg',\n",
       " 'bmpuvhedldhsqtrygapq.jpg',\n",
       " 'cqazavhdztwylwftzxov.jpg',\n",
       " 'wzymxookukriqzjfxkpi.jpg',\n",
       " 'pjzkocyrmjbvvollbkxu.jpg',\n",
       " 'igdsebahyoyivgkvvndc.jpg',\n",
       " 'wumixirglvdfmkhaoere.jpg',\n",
       " 'yuyimazzjhjivfrkjowv.jpg',\n",
       " 'jqtvlrwsgbmbvumffnwr.jpg',\n",
       " 'mlvahhhszofnjoyjcchh.jpg',\n",
       " 'iuxqidjeanmicucdzalz.jpg',\n",
       " 'tvcysmwlmkeufpfzygbi.jpg',\n",
       " 'rxoiddbttuappsmfubnr.jpg',\n",
       " 'anwgkywcacfrvngceovw.jpg',\n",
       " 'ybmqgeowvfababnammoy.jpg',\n",
       " 'dnopprhdckfxdlnxhxjy.jpg',\n",
       " 'wkuqmlqypxqnmixyucfr.jpg',\n",
       " 'qmolbmafhytfzcbstbac.jpg',\n",
       " 'mjonjjhxvcgpdfbyjors.jpg',\n",
       " 'xujcbxijejoaqymrtfud.jpg',\n",
       " 'jctftrbpkbnlxhixjqli.jpg',\n",
       " ...]"
      ]
     },
     "execution_count": 14,
     "metadata": {},
     "output_type": "execute_result"
    }
   ],
   "source": [
    "set_dir(train_pth)"
   ]
  },
  {
   "cell_type": "code",
   "execution_count": 15,
   "id": "bbc6a208",
   "metadata": {
    "execution": {
     "iopub.execute_input": "2023-01-09T10:19:45.559309Z",
     "iopub.status.busy": "2023-01-09T10:19:45.558832Z",
     "iopub.status.idle": "2023-01-09T10:23:00.892344Z",
     "shell.execute_reply": "2023-01-09T10:23:00.890639Z"
    },
    "papermill": {
     "duration": 195.354903,
     "end_time": "2023-01-09T10:23:00.896879",
     "exception": false,
     "start_time": "2023-01-09T10:19:45.541976",
     "status": "completed"
    },
    "tags": []
   },
   "outputs": [
    {
     "name": "stderr",
     "output_type": "stream",
     "text": [
      "100%|██████████| 2664/2664 [03:15<00:00, 13.64it/s]\n"
     ]
    }
   ],
   "source": [
    "tr_ftrs = ftrs_extrctn(df_train)"
   ]
  },
  {
   "cell_type": "code",
   "execution_count": 16,
   "id": "12b7b620",
   "metadata": {
    "execution": {
     "iopub.execute_input": "2023-01-09T10:23:01.094095Z",
     "iopub.status.busy": "2023-01-09T10:23:01.093623Z",
     "iopub.status.idle": "2023-01-09T10:23:01.100765Z",
     "shell.execute_reply": "2023-01-09T10:23:01.099179Z"
    },
    "id": "W2zOkxpXGQtq",
    "papermill": {
     "duration": 0.107181,
     "end_time": "2023-01-09T10:23:01.103418",
     "exception": false,
     "start_time": "2023-01-09T10:23:00.996237",
     "status": "completed"
    },
    "tags": []
   },
   "outputs": [],
   "source": [
    "clmns=['image', 'Lpl_Mean', 'Lpl_Var', 'Lpl_Max', 'Sbl_Mean', 'Sbl_Var', 'Sbl_Max', 'Rbt_Mean', 'Rbt_Var', 'Rbt_Max', 'fft_feat', 'tv_feat']"
   ]
  },
  {
   "cell_type": "code",
   "execution_count": 17,
   "id": "286cf095",
   "metadata": {
    "execution": {
     "iopub.execute_input": "2023-01-09T10:23:01.297705Z",
     "iopub.status.busy": "2023-01-09T10:23:01.297309Z",
     "iopub.status.idle": "2023-01-09T10:23:01.329855Z",
     "shell.execute_reply": "2023-01-09T10:23:01.328518Z"
    },
    "id": "_aD4TyTEBkgD",
    "outputId": "40400038-6b70-4019-a77e-b8722b4e8df7",
    "papermill": {
     "duration": 0.134598,
     "end_time": "2023-01-09T10:23:01.332900",
     "exception": false,
     "start_time": "2023-01-09T10:23:01.198302",
     "status": "completed"
    },
    "tags": []
   },
   "outputs": [
    {
     "data": {
      "text/html": [
       "<div>\n",
       "<style scoped>\n",
       "    .dataframe tbody tr th:only-of-type {\n",
       "        vertical-align: middle;\n",
       "    }\n",
       "\n",
       "    .dataframe tbody tr th {\n",
       "        vertical-align: top;\n",
       "    }\n",
       "\n",
       "    .dataframe thead th {\n",
       "        text-align: right;\n",
       "    }\n",
       "</style>\n",
       "<table border=\"1\" class=\"dataframe\">\n",
       "  <thead>\n",
       "    <tr style=\"text-align: right;\">\n",
       "      <th></th>\n",
       "      <th>image</th>\n",
       "      <th>Lpl_Mean</th>\n",
       "      <th>Lpl_Var</th>\n",
       "      <th>Lpl_Max</th>\n",
       "      <th>Sbl_Mean</th>\n",
       "      <th>Sbl_Var</th>\n",
       "      <th>Sbl_Max</th>\n",
       "      <th>Rbt_Mean</th>\n",
       "      <th>Rbt_Var</th>\n",
       "      <th>Rbt_Max</th>\n",
       "      <th>fft_feat</th>\n",
       "      <th>tv_feat</th>\n",
       "    </tr>\n",
       "  </thead>\n",
       "  <tbody>\n",
       "    <tr>\n",
       "      <th>0</th>\n",
       "      <td>kagouracdzwrjjxzzedi.jpg</td>\n",
       "      <td>-5.261757e-19</td>\n",
       "      <td>0.005686</td>\n",
       "      <td>0.835294</td>\n",
       "      <td>0.037452</td>\n",
       "      <td>0.002806</td>\n",
       "      <td>0.595749</td>\n",
       "      <td>0.032187</td>\n",
       "      <td>0.002284</td>\n",
       "      <td>0.559102</td>\n",
       "      <td>0.030203</td>\n",
       "      <td>10.382713</td>\n",
       "    </tr>\n",
       "    <tr>\n",
       "      <th>1</th>\n",
       "      <td>ahnamimqdfqoqdnozabc.jpg</td>\n",
       "      <td>1.172664e-19</td>\n",
       "      <td>0.016085</td>\n",
       "      <td>1.388235</td>\n",
       "      <td>0.047829</td>\n",
       "      <td>0.007164</td>\n",
       "      <td>0.677087</td>\n",
       "      <td>0.042674</td>\n",
       "      <td>0.006380</td>\n",
       "      <td>0.676610</td>\n",
       "      <td>0.025919</td>\n",
       "      <td>5.108372</td>\n",
       "    </tr>\n",
       "    <tr>\n",
       "      <th>2</th>\n",
       "      <td>gwhdadvghuzinmzhzssx.jpg</td>\n",
       "      <td>-3.245765e-19</td>\n",
       "      <td>0.006037</td>\n",
       "      <td>1.243137</td>\n",
       "      <td>0.030820</td>\n",
       "      <td>0.004115</td>\n",
       "      <td>0.662509</td>\n",
       "      <td>0.025897</td>\n",
       "      <td>0.003150</td>\n",
       "      <td>0.691582</td>\n",
       "      <td>0.034899</td>\n",
       "      <td>7.154258</td>\n",
       "    </tr>\n",
       "  </tbody>\n",
       "</table>\n",
       "</div>"
      ],
      "text/plain": [
       "                      image      Lpl_Mean   Lpl_Var   Lpl_Max  Sbl_Mean  \\\n",
       "0  kagouracdzwrjjxzzedi.jpg -5.261757e-19  0.005686  0.835294  0.037452   \n",
       "1  ahnamimqdfqoqdnozabc.jpg  1.172664e-19  0.016085  1.388235  0.047829   \n",
       "2  gwhdadvghuzinmzhzssx.jpg -3.245765e-19  0.006037  1.243137  0.030820   \n",
       "\n",
       "    Sbl_Var   Sbl_Max  Rbt_Mean   Rbt_Var   Rbt_Max  fft_feat    tv_feat  \n",
       "0  0.002806  0.595749  0.032187  0.002284  0.559102  0.030203  10.382713  \n",
       "1  0.007164  0.677087  0.042674  0.006380  0.676610  0.025919   5.108372  \n",
       "2  0.004115  0.662509  0.025897  0.003150  0.691582  0.034899   7.154258  "
      ]
     },
     "execution_count": 17,
     "metadata": {},
     "output_type": "execute_result"
    }
   ],
   "source": [
    "ftrs_df = pd.DataFrame(tr_ftrs, columns=clmns)\n",
    "ftrs_df.head(3)"
   ]
  },
  {
   "cell_type": "code",
   "execution_count": 18,
   "id": "0f6b952f",
   "metadata": {
    "execution": {
     "iopub.execute_input": "2023-01-09T10:23:01.533841Z",
     "iopub.status.busy": "2023-01-09T10:23:01.533418Z",
     "iopub.status.idle": "2023-01-09T10:23:01.567226Z",
     "shell.execute_reply": "2023-01-09T10:23:01.565597Z"
    },
    "id": "6J3S5bszExx8",
    "outputId": "8b2b3327-2aa0-4bd3-a9f5-dc9295a10dc6",
    "papermill": {
     "duration": 0.138366,
     "end_time": "2023-01-09T10:23:01.570072",
     "exception": false,
     "start_time": "2023-01-09T10:23:01.431706",
     "status": "completed"
    },
    "tags": []
   },
   "outputs": [
    {
     "data": {
      "text/html": [
       "<div>\n",
       "<style scoped>\n",
       "    .dataframe tbody tr th:only-of-type {\n",
       "        vertical-align: middle;\n",
       "    }\n",
       "\n",
       "    .dataframe tbody tr th {\n",
       "        vertical-align: top;\n",
       "    }\n",
       "\n",
       "    .dataframe thead th {\n",
       "        text-align: right;\n",
       "    }\n",
       "</style>\n",
       "<table border=\"1\" class=\"dataframe\">\n",
       "  <thead>\n",
       "    <tr style=\"text-align: right;\">\n",
       "      <th></th>\n",
       "      <th>filename</th>\n",
       "      <th>blur</th>\n",
       "      <th>image</th>\n",
       "      <th>Lpl_Mean</th>\n",
       "      <th>Lpl_Var</th>\n",
       "      <th>Lpl_Max</th>\n",
       "      <th>Sbl_Mean</th>\n",
       "      <th>Sbl_Var</th>\n",
       "      <th>Sbl_Max</th>\n",
       "      <th>Rbt_Mean</th>\n",
       "      <th>Rbt_Var</th>\n",
       "      <th>Rbt_Max</th>\n",
       "      <th>fft_feat</th>\n",
       "      <th>tv_feat</th>\n",
       "    </tr>\n",
       "  </thead>\n",
       "  <tbody>\n",
       "    <tr>\n",
       "      <th>0</th>\n",
       "      <td>kagouracdzwrjjxzzedi.jpg</td>\n",
       "      <td>0</td>\n",
       "      <td>kagouracdzwrjjxzzedi.jpg</td>\n",
       "      <td>-5.261757e-19</td>\n",
       "      <td>0.005686</td>\n",
       "      <td>0.835294</td>\n",
       "      <td>0.037452</td>\n",
       "      <td>0.002806</td>\n",
       "      <td>0.595749</td>\n",
       "      <td>0.032187</td>\n",
       "      <td>0.002284</td>\n",
       "      <td>0.559102</td>\n",
       "      <td>0.030203</td>\n",
       "      <td>10.382713</td>\n",
       "    </tr>\n",
       "    <tr>\n",
       "      <th>1</th>\n",
       "      <td>ahnamimqdfqoqdnozabc.jpg</td>\n",
       "      <td>0</td>\n",
       "      <td>ahnamimqdfqoqdnozabc.jpg</td>\n",
       "      <td>1.172664e-19</td>\n",
       "      <td>0.016085</td>\n",
       "      <td>1.388235</td>\n",
       "      <td>0.047829</td>\n",
       "      <td>0.007164</td>\n",
       "      <td>0.677087</td>\n",
       "      <td>0.042674</td>\n",
       "      <td>0.006380</td>\n",
       "      <td>0.676610</td>\n",
       "      <td>0.025919</td>\n",
       "      <td>5.108372</td>\n",
       "    </tr>\n",
       "    <tr>\n",
       "      <th>2</th>\n",
       "      <td>gwhdadvghuzinmzhzssx.jpg</td>\n",
       "      <td>0</td>\n",
       "      <td>gwhdadvghuzinmzhzssx.jpg</td>\n",
       "      <td>-3.245765e-19</td>\n",
       "      <td>0.006037</td>\n",
       "      <td>1.243137</td>\n",
       "      <td>0.030820</td>\n",
       "      <td>0.004115</td>\n",
       "      <td>0.662509</td>\n",
       "      <td>0.025897</td>\n",
       "      <td>0.003150</td>\n",
       "      <td>0.691582</td>\n",
       "      <td>0.034899</td>\n",
       "      <td>7.154258</td>\n",
       "    </tr>\n",
       "  </tbody>\n",
       "</table>\n",
       "</div>"
      ],
      "text/plain": [
       "                   filename  blur                     image      Lpl_Mean  \\\n",
       "0  kagouracdzwrjjxzzedi.jpg     0  kagouracdzwrjjxzzedi.jpg -5.261757e-19   \n",
       "1  ahnamimqdfqoqdnozabc.jpg     0  ahnamimqdfqoqdnozabc.jpg  1.172664e-19   \n",
       "2  gwhdadvghuzinmzhzssx.jpg     0  gwhdadvghuzinmzhzssx.jpg -3.245765e-19   \n",
       "\n",
       "    Lpl_Var   Lpl_Max  Sbl_Mean   Sbl_Var   Sbl_Max  Rbt_Mean   Rbt_Var  \\\n",
       "0  0.005686  0.835294  0.037452  0.002806  0.595749  0.032187  0.002284   \n",
       "1  0.016085  1.388235  0.047829  0.007164  0.677087  0.042674  0.006380   \n",
       "2  0.006037  1.243137  0.030820  0.004115  0.662509  0.025897  0.003150   \n",
       "\n",
       "    Rbt_Max  fft_feat    tv_feat  \n",
       "0  0.559102  0.030203  10.382713  \n",
       "1  0.676610  0.025919   5.108372  \n",
       "2  0.691582  0.034899   7.154258  "
      ]
     },
     "execution_count": 18,
     "metadata": {},
     "output_type": "execute_result"
    }
   ],
   "source": [
    "# Объединение датафрейма с ответами (df_train) и \n",
    "# сгенерированных признаков (ftrs_df)\n",
    "\n",
    "df_train = df_train.join(ftrs_df)\n",
    "df_train.head(3)"
   ]
  },
  {
   "cell_type": "code",
   "execution_count": 19,
   "id": "51c897cc",
   "metadata": {
    "execution": {
     "iopub.execute_input": "2023-01-09T10:23:01.772078Z",
     "iopub.status.busy": "2023-01-09T10:23:01.771556Z",
     "iopub.status.idle": "2023-01-09T10:23:01.778254Z",
     "shell.execute_reply": "2023-01-09T10:23:01.776841Z"
    },
    "id": "_6l_BKniHzYW",
    "papermill": {
     "duration": 0.111942,
     "end_time": "2023-01-09T10:23:01.780963",
     "exception": false,
     "start_time": "2023-01-09T10:23:01.669021",
     "status": "completed"
    },
    "tags": []
   },
   "outputs": [],
   "source": [
    "# Эта ячейка использовалась при работе в Google Colab, потому что, по моему субъективному мнению, платформа Kaggle не удобна. \n",
    "# \n",
    "# Запись на диск и выгрузка датафрейма для экономии времени при открытии новой сессии Google Colab\n",
    "#df_train.to_pickle('/content/drive/MyDrive/Colab Notebooks/InternShipS/ShiftCFT/all_ftrs_26122022.pkl')\n",
    "#df_train = pd.read_pickle('/content/drive/MyDrive/Colab Notebooks/InternShipS/ShiftCFT/all_ftrs_26122022.pkl')"
   ]
  },
  {
   "cell_type": "code",
   "execution_count": 20,
   "id": "e9ccfd04",
   "metadata": {
    "execution": {
     "iopub.execute_input": "2023-01-09T10:23:01.981195Z",
     "iopub.status.busy": "2023-01-09T10:23:01.980747Z",
     "iopub.status.idle": "2023-01-09T10:23:02.002387Z",
     "shell.execute_reply": "2023-01-09T10:23:02.001042Z"
    },
    "id": "2jih7jlmQtZk",
    "papermill": {
     "duration": 0.122334,
     "end_time": "2023-01-09T10:23:02.004856",
     "exception": false,
     "start_time": "2023-01-09T10:23:01.882522",
     "status": "completed"
    },
    "tags": []
   },
   "outputs": [
    {
     "data": {
      "text/html": [
       "<div>\n",
       "<style scoped>\n",
       "    .dataframe tbody tr th:only-of-type {\n",
       "        vertical-align: middle;\n",
       "    }\n",
       "\n",
       "    .dataframe tbody tr th {\n",
       "        vertical-align: top;\n",
       "    }\n",
       "\n",
       "    .dataframe thead th {\n",
       "        text-align: right;\n",
       "    }\n",
       "</style>\n",
       "<table border=\"1\" class=\"dataframe\">\n",
       "  <thead>\n",
       "    <tr style=\"text-align: right;\">\n",
       "      <th></th>\n",
       "      <th>blur</th>\n",
       "      <th>Lpl_Mean</th>\n",
       "      <th>Lpl_Var</th>\n",
       "      <th>Lpl_Max</th>\n",
       "      <th>Sbl_Mean</th>\n",
       "      <th>Sbl_Var</th>\n",
       "      <th>Sbl_Max</th>\n",
       "      <th>Rbt_Mean</th>\n",
       "      <th>Rbt_Var</th>\n",
       "      <th>Rbt_Max</th>\n",
       "      <th>fft_feat</th>\n",
       "      <th>tv_feat</th>\n",
       "    </tr>\n",
       "  </thead>\n",
       "  <tbody>\n",
       "    <tr>\n",
       "      <th>0</th>\n",
       "      <td>0</td>\n",
       "      <td>-5.261757e-19</td>\n",
       "      <td>0.005686</td>\n",
       "      <td>0.835294</td>\n",
       "      <td>0.037452</td>\n",
       "      <td>0.002806</td>\n",
       "      <td>0.595749</td>\n",
       "      <td>0.032187</td>\n",
       "      <td>0.002284</td>\n",
       "      <td>0.559102</td>\n",
       "      <td>0.030203</td>\n",
       "      <td>10.382713</td>\n",
       "    </tr>\n",
       "  </tbody>\n",
       "</table>\n",
       "</div>"
      ],
      "text/plain": [
       "   blur      Lpl_Mean   Lpl_Var   Lpl_Max  Sbl_Mean   Sbl_Var   Sbl_Max  \\\n",
       "0     0 -5.261757e-19  0.005686  0.835294  0.037452  0.002806  0.595749   \n",
       "\n",
       "   Rbt_Mean   Rbt_Var   Rbt_Max  fft_feat    tv_feat  \n",
       "0  0.032187  0.002284  0.559102  0.030203  10.382713  "
      ]
     },
     "execution_count": 20,
     "metadata": {},
     "output_type": "execute_result"
    }
   ],
   "source": [
    "# Удаление из датафрейма столбцов с именами файлов\n",
    "\n",
    "df_train = df_train.drop(['filename', 'image'], axis=1)\n",
    "df_train.head(1)"
   ]
  },
  {
   "cell_type": "code",
   "execution_count": 21,
   "id": "0cc9e1cd",
   "metadata": {
    "execution": {
     "iopub.execute_input": "2023-01-09T10:23:02.204005Z",
     "iopub.status.busy": "2023-01-09T10:23:02.203531Z",
     "iopub.status.idle": "2023-01-09T10:23:02.209914Z",
     "shell.execute_reply": "2023-01-09T10:23:02.207655Z"
    },
    "id": "RIOV_-Ri5h6v",
    "papermill": {
     "duration": 0.109888,
     "end_time": "2023-01-09T10:23:02.212917",
     "exception": false,
     "start_time": "2023-01-09T10:23:02.103029",
     "status": "completed"
    },
    "tags": []
   },
   "outputs": [],
   "source": [
    "# Экперимент с проверкой влияния мультиколлинеарности на работу SVM\n",
    "# P. S. Практически не влияет\n",
    "\n",
    "#df_train = df_train.drop(['Sbl_Mean', 'Rbt_Var'], axis=1)"
   ]
  },
  {
   "cell_type": "code",
   "execution_count": 22,
   "id": "5713affa",
   "metadata": {
    "execution": {
     "iopub.execute_input": "2023-01-09T10:23:02.408659Z",
     "iopub.status.busy": "2023-01-09T10:23:02.408192Z",
     "iopub.status.idle": "2023-01-09T10:23:02.413549Z",
     "shell.execute_reply": "2023-01-09T10:23:02.412537Z"
    },
    "id": "dpXnrDWwROEf",
    "papermill": {
     "duration": 0.105829,
     "end_time": "2023-01-09T10:23:02.416008",
     "exception": false,
     "start_time": "2023-01-09T10:23:02.310179",
     "status": "completed"
    },
    "tags": []
   },
   "outputs": [],
   "source": [
    "# Запись на диск и выгрузка датафрейма без столбцов имён файов\n",
    "# для экономии времени при открытии новой сессии Google Colab\n",
    "\n",
    "# df_train.to_pickle('/content/drive/MyDrive/Colab Notebooks/InternShipS/ShiftCFT/all_ftrs_no_imgs_26122022.pkl')\n",
    "# df_train = pd.read_pickle('/content/drive/MyDrive/Colab Notebooks/InternShipS/ShiftCFT/all_ftrs_no_imgs_26122022.pkl')"
   ]
  },
  {
   "cell_type": "markdown",
   "id": "d0957ecd",
   "metadata": {
    "id": "K0-2z3aLLHwE",
    "papermill": {
     "duration": 0.097618,
     "end_time": "2023-01-09T10:23:02.612651",
     "exception": false,
     "start_time": "2023-01-09T10:23:02.515033",
     "status": "completed"
    },
    "tags": []
   },
   "source": [
    "# Multicollinearity\n",
    "Источник: https://pythonpip.ru/examples/obnaruzhenie-multikollinearnosti-vif-v-python"
   ]
  },
  {
   "cell_type": "code",
   "execution_count": 23,
   "id": "ffc74bef",
   "metadata": {
    "execution": {
     "iopub.execute_input": "2023-01-09T10:23:02.811218Z",
     "iopub.status.busy": "2023-01-09T10:23:02.810756Z",
     "iopub.status.idle": "2023-01-09T10:23:03.540549Z",
     "shell.execute_reply": "2023-01-09T10:23:03.539130Z"
    },
    "id": "F7kcT-EQIh5e",
    "outputId": "b87330a0-c339-4447-8e11-acc437857eb9",
    "papermill": {
     "duration": 0.833962,
     "end_time": "2023-01-09T10:23:03.543073",
     "exception": false,
     "start_time": "2023-01-09T10:23:02.709111",
     "status": "completed"
    },
    "tags": []
   },
   "outputs": [
    {
     "data": {
      "image/png": "[encoded data removed]",
      "text/plain": [
       "<Figure size 1152x864 with 2 Axes>"
      ]
     },
     "metadata": {
      "needs_background": "light"
     },
     "output_type": "display_data"
    }
   ],
   "source": [
    "# Отображение нижней части матрицы корреляции, без дублирующей верхней части и диагонали\n",
    "# https://habr.com/ru/company/otus/blog/559666/\n",
    "\n",
    "matrix = df_train.corr()\n",
    "mask = np.triu(np.ones_like(matrix, dtype=bool))\n",
    "cmap = sns.diverging_palette(250, 15, s=75, l=40,\n",
    "                             n=9, center=\"light\", as_cmap=True)\n",
    "\n",
    "plt.figure(figsize=(16, 12))\n",
    "\n",
    "sns.heatmap(matrix, mask=mask, center=0, annot=True,\n",
    "             fmt='.2f', square=True, cmap=cmap)\n",
    "\n",
    "plt.show();"
   ]
  },
  {
   "cell_type": "markdown",
   "id": "48031228",
   "metadata": {
    "id": "fWGZiZtULPxb",
    "papermill": {
     "duration": 0.177041,
     "end_time": "2023-01-09T10:23:03.822220",
     "exception": false,
     "start_time": "2023-01-09T10:23:03.645179",
     "status": "completed"
    },
    "tags": []
   },
   "source": [
    "Multicollinearity-II\n",
    "https://www.codecamp.ru/blog/how-to-calculate-vif-in-python/"
   ]
  },
  {
   "cell_type": "code",
   "execution_count": 24,
   "id": "07bfb1f9",
   "metadata": {
    "execution": {
     "iopub.execute_input": "2023-01-09T10:23:04.029224Z",
     "iopub.status.busy": "2023-01-09T10:23:04.028537Z",
     "iopub.status.idle": "2023-01-09T10:23:04.132618Z",
     "shell.execute_reply": "2023-01-09T10:23:04.130695Z"
    },
    "id": "E5M__w4pKBJP",
    "outputId": "e6413938-f83b-46c5-a946-6ab39c0d26d3",
    "papermill": {
     "duration": 0.212654,
     "end_time": "2023-01-09T10:23:04.137759",
     "exception": false,
     "start_time": "2023-01-09T10:23:03.925105",
     "status": "completed"
    },
    "tags": []
   },
   "outputs": [
    {
     "data": {
      "text/html": [
       "<div>\n",
       "<style scoped>\n",
       "    .dataframe tbody tr th:only-of-type {\n",
       "        vertical-align: middle;\n",
       "    }\n",
       "\n",
       "    .dataframe tbody tr th {\n",
       "        vertical-align: top;\n",
       "    }\n",
       "\n",
       "    .dataframe thead th {\n",
       "        text-align: right;\n",
       "    }\n",
       "</style>\n",
       "<table border=\"1\" class=\"dataframe\">\n",
       "  <thead>\n",
       "    <tr style=\"text-align: right;\">\n",
       "      <th></th>\n",
       "      <th>VIF</th>\n",
       "      <th>variable</th>\n",
       "    </tr>\n",
       "  </thead>\n",
       "  <tbody>\n",
       "    <tr>\n",
       "      <th>0</th>\n",
       "      <td>52.410615</td>\n",
       "      <td>Intercept</td>\n",
       "    </tr>\n",
       "    <tr>\n",
       "      <th>1</th>\n",
       "      <td>1.087079</td>\n",
       "      <td>Lpl_Mean</td>\n",
       "    </tr>\n",
       "    <tr>\n",
       "      <th>2</th>\n",
       "      <td>18.862513</td>\n",
       "      <td>Lpl_Var</td>\n",
       "    </tr>\n",
       "    <tr>\n",
       "      <th>3</th>\n",
       "      <td>5.263208</td>\n",
       "      <td>Lpl_Max</td>\n",
       "    </tr>\n",
       "    <tr>\n",
       "      <th>4</th>\n",
       "      <td>110.555349</td>\n",
       "      <td>Sbl_Mean</td>\n",
       "    </tr>\n",
       "    <tr>\n",
       "      <th>5</th>\n",
       "      <td>121.605752</td>\n",
       "      <td>Sbl_Var</td>\n",
       "    </tr>\n",
       "    <tr>\n",
       "      <th>6</th>\n",
       "      <td>15.369470</td>\n",
       "      <td>Sbl_Max</td>\n",
       "    </tr>\n",
       "    <tr>\n",
       "      <th>7</th>\n",
       "      <td>128.957281</td>\n",
       "      <td>Rbt_Mean</td>\n",
       "    </tr>\n",
       "    <tr>\n",
       "      <th>8</th>\n",
       "      <td>161.890856</td>\n",
       "      <td>Rbt_Var</td>\n",
       "    </tr>\n",
       "    <tr>\n",
       "      <th>9</th>\n",
       "      <td>21.118612</td>\n",
       "      <td>Rbt_Max</td>\n",
       "    </tr>\n",
       "    <tr>\n",
       "      <th>10</th>\n",
       "      <td>1.005006</td>\n",
       "      <td>fft_feat</td>\n",
       "    </tr>\n",
       "    <tr>\n",
       "      <th>11</th>\n",
       "      <td>2.598596</td>\n",
       "      <td>tv_feat</td>\n",
       "    </tr>\n",
       "  </tbody>\n",
       "</table>\n",
       "</div>"
      ],
      "text/plain": [
       "           VIF   variable\n",
       "0    52.410615  Intercept\n",
       "1     1.087079   Lpl_Mean\n",
       "2    18.862513    Lpl_Var\n",
       "3     5.263208    Lpl_Max\n",
       "4   110.555349   Sbl_Mean\n",
       "5   121.605752    Sbl_Var\n",
       "6    15.369470    Sbl_Max\n",
       "7   128.957281   Rbt_Mean\n",
       "8   161.890856    Rbt_Var\n",
       "9    21.118612    Rbt_Max\n",
       "10    1.005006   fft_feat\n",
       "11    2.598596    tv_feat"
      ]
     },
     "execution_count": 24,
     "metadata": {},
     "output_type": "execute_result"
    }
   ],
   "source": [
    "#find design matrix for linear regression model using 'rating' as response variable \n",
    "y, X = dmatrices('blur ~ Lpl_Mean+Lpl_Var+Lpl_Max+Sbl_Mean+Sbl_Var+Sbl_Max+Rbt_Mean+Rbt_Var+Rbt_Max+fft_feat+tv_feat', data=df_train, return_type='dataframe') # Rbt_Mean+Rbt_Var+Rbt_Max+\n",
    "\n",
    "#calculate VIF for each explanatory variable\n",
    "vif = pd.DataFrame()\n",
    "vif['VIF'] = [variance_inflation_factor(X.values, i) for i in range(X.shape[1])]\n",
    "vif['variable'] = X.columns\n",
    "\n",
    "#view VIF for each explanatory variable \n",
    "vif"
   ]
  },
  {
   "cell_type": "markdown",
   "id": "ce232e26",
   "metadata": {
    "id": "KGEaLbbmLqoo",
    "papermill": {
     "duration": 0.103431,
     "end_time": "2023-01-09T10:23:04.396339",
     "exception": false,
     "start_time": "2023-01-09T10:23:04.292908",
     "status": "completed"
    },
    "tags": []
   },
   "source": [
    "# Prepare Train & Test DF"
   ]
  },
  {
   "cell_type": "markdown",
   "id": "1e986cb5",
   "metadata": {
    "id": "-CFli99dWKQ0",
    "papermill": {
     "duration": 0.099614,
     "end_time": "2023-01-09T10:23:04.593929",
     "exception": false,
     "start_time": "2023-01-09T10:23:04.494315",
     "status": "completed"
    },
    "tags": []
   },
   "source": [
    "## PCA"
   ]
  },
  {
   "cell_type": "code",
   "execution_count": 25,
   "id": "0911ce98",
   "metadata": {
    "execution": {
     "iopub.execute_input": "2023-01-09T10:23:04.791402Z",
     "iopub.status.busy": "2023-01-09T10:23:04.790977Z",
     "iopub.status.idle": "2023-01-09T10:23:04.795965Z",
     "shell.execute_reply": "2023-01-09T10:23:04.794784Z"
    },
    "id": "rKEKacmLr1rx",
    "papermill": {
     "duration": 0.106135,
     "end_time": "2023-01-09T10:23:04.798365",
     "exception": false,
     "start_time": "2023-01-09T10:23:04.692230",
     "status": "completed"
    },
    "tags": []
   },
   "outputs": [],
   "source": [
    "# pca = PCA().fit(df_train)\n",
    "# plt.plot(np.cumsum(pca.explained_variance_ratio_))\n",
    "# plt.xlabel('number of components')\n",
    "# plt.ylabel('cumulative explained variance');"
   ]
  },
  {
   "cell_type": "code",
   "execution_count": 26,
   "id": "14e35ba7",
   "metadata": {
    "execution": {
     "iopub.execute_input": "2023-01-09T10:23:04.993709Z",
     "iopub.status.busy": "2023-01-09T10:23:04.993315Z",
     "iopub.status.idle": "2023-01-09T10:23:04.998143Z",
     "shell.execute_reply": "2023-01-09T10:23:04.996932Z"
    },
    "id": "XpbzMtexrpNC",
    "papermill": {
     "duration": 0.106679,
     "end_time": "2023-01-09T10:23:05.000502",
     "exception": false,
     "start_time": "2023-01-09T10:23:04.893823",
     "status": "completed"
    },
    "tags": []
   },
   "outputs": [],
   "source": [
    "# PCA не \"сработало\", лучший результат \n",
    "# 0.8836772983114447 при C=400,kernel='rbf'\n",
    "\n",
    "# pca = PCA(n_components=4)\n",
    "# df_train_pca = pca.fit_transform(X_train)"
   ]
  },
  {
   "cell_type": "markdown",
   "id": "70e43ee9",
   "metadata": {
    "id": "zTtAm_q5WWTb",
    "papermill": {
     "duration": 0.096782,
     "end_time": "2023-01-09T10:23:05.195813",
     "exception": false,
     "start_time": "2023-01-09T10:23:05.099031",
     "status": "completed"
    },
    "tags": []
   },
   "source": [
    "## Prepare Train & Test DF"
   ]
  },
  {
   "cell_type": "code",
   "execution_count": 27,
   "id": "a0b805e8",
   "metadata": {
    "execution": {
     "iopub.execute_input": "2023-01-09T10:23:05.427777Z",
     "iopub.status.busy": "2023-01-09T10:23:05.427347Z",
     "iopub.status.idle": "2023-01-09T10:23:05.433783Z",
     "shell.execute_reply": "2023-01-09T10:23:05.432478Z"
    },
    "id": "sqUQnYQ6LlTx",
    "papermill": {
     "duration": 0.141162,
     "end_time": "2023-01-09T10:23:05.436375",
     "exception": false,
     "start_time": "2023-01-09T10:23:05.295213",
     "status": "completed"
    },
    "tags": []
   },
   "outputs": [],
   "source": [
    "# Подготовка набора данных для обучения и проверки точности\n",
    "\n",
    "# Копирование   столбца ответов (blur)\n",
    "y_train = df_train['blur']\n",
    "#y_test = test[:, 0]\n",
    "\n",
    "# Удаление первого столбца с номерами букв\n",
    "X_train = df_train.loc[:, 'Lpl_Mean':]\n",
    "#X_test = test[:, 1:]"
   ]
  },
  {
   "cell_type": "code",
   "execution_count": 28,
   "id": "9939e897",
   "metadata": {
    "execution": {
     "iopub.execute_input": "2023-01-09T10:23:05.654948Z",
     "iopub.status.busy": "2023-01-09T10:23:05.654134Z",
     "iopub.status.idle": "2023-01-09T10:23:05.659051Z",
     "shell.execute_reply": "2023-01-09T10:23:05.657994Z"
    },
    "id": "Qnfxerrm4wnV",
    "papermill": {
     "duration": 0.107608,
     "end_time": "2023-01-09T10:23:05.661419",
     "exception": false,
     "start_time": "2023-01-09T10:23:05.553811",
     "status": "completed"
    },
    "tags": []
   },
   "outputs": [],
   "source": [
    "# Подготовка полного набора для обучения и послед применения для предсказания на тестовом наборе\n",
    "\n",
    "X_tr_tr, y_tr_tr = X_train, y_train"
   ]
  },
  {
   "cell_type": "code",
   "execution_count": 29,
   "id": "45ccdd25",
   "metadata": {
    "execution": {
     "iopub.execute_input": "2023-01-09T10:23:05.866250Z",
     "iopub.status.busy": "2023-01-09T10:23:05.865455Z",
     "iopub.status.idle": "2023-01-09T10:23:05.872764Z",
     "shell.execute_reply": "2023-01-09T10:23:05.871362Z"
    },
    "id": "gnuJjeJoM0K2",
    "papermill": {
     "duration": 0.115367,
     "end_time": "2023-01-09T10:23:05.875708",
     "exception": false,
     "start_time": "2023-01-09T10:23:05.760341",
     "status": "completed"
    },
    "tags": []
   },
   "outputs": [],
   "source": [
    "# Разделение набора данных на тренировочный и проверочный наборы в пропорции 80%/20%\n",
    "# Без перемешивания\n",
    "\n",
    "X_train, X_valid, y_train, y_valid = train_test_split(X_train, y_train, test_size=0.2, shuffle=False)"
   ]
  },
  {
   "cell_type": "code",
   "execution_count": 30,
   "id": "35f4eaa4",
   "metadata": {
    "execution": {
     "iopub.execute_input": "2023-01-09T10:23:06.084324Z",
     "iopub.status.busy": "2023-01-09T10:23:06.083511Z",
     "iopub.status.idle": "2023-01-09T10:23:06.094014Z",
     "shell.execute_reply": "2023-01-09T10:23:06.091844Z"
    },
    "id": "mT3cug1J3QtJ",
    "outputId": "f268ba83-961f-4257-b292-df0627894815",
    "papermill": {
     "duration": 0.119896,
     "end_time": "2023-01-09T10:23:06.097367",
     "exception": false,
     "start_time": "2023-01-09T10:23:05.977471",
     "status": "completed"
    },
    "tags": []
   },
   "outputs": [
    {
     "name": "stdout",
     "output_type": "stream",
     "text": [
      "X_train =  (2131, 11) \n",
      " X_valid= (533, 11) \n",
      " y_train =  (2131,) \n",
      " y_valid =  (533,)\n"
     ]
    }
   ],
   "source": [
    "print('X_train = ', X_train.shape, '\\n', 'X_valid=', X_valid.shape, '\\n', 'y_train = ', y_train.shape, '\\n', 'y_valid = ', y_valid.shape)"
   ]
  },
  {
   "cell_type": "code",
   "execution_count": 31,
   "id": "4758c1fd",
   "metadata": {
    "execution": {
     "iopub.execute_input": "2023-01-09T10:23:06.307071Z",
     "iopub.status.busy": "2023-01-09T10:23:06.305126Z",
     "iopub.status.idle": "2023-01-09T10:23:06.484132Z",
     "shell.execute_reply": "2023-01-09T10:23:06.482951Z"
    },
    "id": "K927jOQjNlWv",
    "outputId": "5a272be2-3589-42ad-bd53-1a8106e34c76",
    "papermill": {
     "duration": 0.284268,
     "end_time": "2023-01-09T10:23:06.487584",
     "exception": false,
     "start_time": "2023-01-09T10:23:06.203316",
     "status": "completed"
    },
    "tags": []
   },
   "outputs": [
    {
     "data": {
      "text/plain": [
       "0.8142589118198874"
      ]
     },
     "execution_count": 31,
     "metadata": {},
     "output_type": "execute_result"
    }
   ],
   "source": [
    "# Проверка работы классификатора на наборе без нормализации данных\n",
    "# \n",
    "\n",
    "c_svm = SVC(gamma='auto') \n",
    "c_svm.fit(X_train, y_train)\n",
    "\n",
    "pred_svc = c_svm.predict(X_valid)\n",
    "accuracy_score(y_valid, pred_svc)"
   ]
  },
  {
   "cell_type": "code",
   "execution_count": 32,
   "id": "703def3b",
   "metadata": {
    "execution": {
     "iopub.execute_input": "2023-01-09T10:23:06.745278Z",
     "iopub.status.busy": "2023-01-09T10:23:06.744525Z",
     "iopub.status.idle": "2023-01-09T10:23:07.294052Z",
     "shell.execute_reply": "2023-01-09T10:23:07.292775Z"
    },
    "id": "8DeieOynOctz",
    "outputId": "2a594004-848e-4029-cd66-08ab644c921b",
    "papermill": {
     "duration": 0.712121,
     "end_time": "2023-01-09T10:23:07.296659",
     "exception": false,
     "start_time": "2023-01-09T10:23:06.584538",
     "status": "completed"
    },
    "tags": []
   },
   "outputs": [
    {
     "data": {
      "text/plain": [
       "0.9399624765478424"
      ]
     },
     "execution_count": 32,
     "metadata": {},
     "output_type": "execute_result"
    }
   ],
   "source": [
    "# На нормализованном наборе с параметрами ядра SVC(kernel='poly', degree=3)) было получено 0.8311444652908068\n",
    "# 0.9568 на 7 фичах \"Lpl_Mean Lpl_Var Lpl_Max Sbl_Var Sbl_Max Rbt_Mean fft_feat\"\n",
    "# но судя по результату на kaggle это overfitting\n",
    "\n",
    "svm_clf = make_pipeline(StandardScaler(), SVC(C=2150,kernel='rbf'))\n",
    "svm_clf.fit(X_train, y_train)\n",
    "\n",
    "pred_svc = svm_clf.predict(X_valid)\n",
    "accuracy_score(y_valid, pred_svc)"
   ]
  },
  {
   "cell_type": "code",
   "execution_count": 33,
   "id": "9f3849a1",
   "metadata": {
    "execution": {
     "iopub.execute_input": "2023-01-09T10:23:07.495482Z",
     "iopub.status.busy": "2023-01-09T10:23:07.495054Z",
     "iopub.status.idle": "2023-01-09T10:23:07.500107Z",
     "shell.execute_reply": "2023-01-09T10:23:07.498797Z"
    },
    "id": "TTu9ZW7Ntx8n",
    "papermill": {
     "duration": 0.110387,
     "end_time": "2023-01-09T10:23:07.502885",
     "exception": false,
     "start_time": "2023-01-09T10:23:07.392498",
     "status": "completed"
    },
    "tags": []
   },
   "outputs": [],
   "source": [
    "# PCA\n",
    "\n",
    "# svm_clf = make_pipeline(StandardScaler(), SVC(C=400,kernel='rbf'))\n",
    "# svm_clf.fit(X_train, y_train)\n",
    "\n",
    "# pred_svc = svm_clf.predict(X_valid)\n",
    "# accuracy_score(y_valid, pred_svc)"
   ]
  },
  {
   "cell_type": "code",
   "execution_count": 34,
   "id": "22913c93",
   "metadata": {
    "execution": {
     "iopub.execute_input": "2023-01-09T10:23:07.706975Z",
     "iopub.status.busy": "2023-01-09T10:23:07.706518Z",
     "iopub.status.idle": "2023-01-09T10:23:07.712186Z",
     "shell.execute_reply": "2023-01-09T10:23:07.710912Z"
    },
    "id": "a45O36pKupPa",
    "papermill": {
     "duration": 0.112871,
     "end_time": "2023-01-09T10:23:07.714983",
     "exception": false,
     "start_time": "2023-01-09T10:23:07.602112",
     "status": "completed"
    },
    "tags": []
   },
   "outputs": [],
   "source": [
    "# pred_svc = svm_clf.predict(X_valid)\n",
    "# accuracy_score(y_valid, pred_svc)"
   ]
  },
  {
   "cell_type": "markdown",
   "id": "168b8f3b",
   "metadata": {
    "id": "RPhJ_tRF4QNI",
    "papermill": {
     "duration": 0.097763,
     "end_time": "2023-01-09T10:23:07.917640",
     "exception": false,
     "start_time": "2023-01-09T10:23:07.819877",
     "status": "completed"
    },
    "tags": []
   },
   "source": [
    "## Test prediction"
   ]
  },
  {
   "cell_type": "code",
   "execution_count": 35,
   "id": "c52f1e22",
   "metadata": {
    "execution": {
     "iopub.execute_input": "2023-01-09T10:23:08.117118Z",
     "iopub.status.busy": "2023-01-09T10:23:08.116688Z",
     "iopub.status.idle": "2023-01-09T10:23:11.890357Z",
     "shell.execute_reply": "2023-01-09T10:23:11.889128Z"
    },
    "id": "u7O_37nM3D1-",
    "outputId": "3265cf0c-b86d-4c94-c2a1-7ee642090050",
    "papermill": {
     "duration": 3.876823,
     "end_time": "2023-01-09T10:23:11.892946",
     "exception": false,
     "start_time": "2023-01-09T10:23:08.016123",
     "status": "completed"
    },
    "tags": []
   },
   "outputs": [
    {
     "data": {
      "text/plain": [
       "Pipeline(steps=[('standardscaler', StandardScaler()),\n",
       "                ('svc', SVC(C=2150, probability=True))])"
      ]
     },
     "execution_count": 35,
     "metadata": {},
     "output_type": "execute_result"
    }
   ],
   "source": [
    "svm_clf = make_pipeline(StandardScaler(), SVC(C=2150,kernel='rbf', probability=True))\n",
    "svm_clf.fit(X_tr_tr, y_tr_tr)  # "
   ]
  },
  {
   "cell_type": "code",
   "execution_count": 36,
   "id": "393c66ff",
   "metadata": {
    "execution": {
     "iopub.execute_input": "2023-01-09T10:23:12.094488Z",
     "iopub.status.busy": "2023-01-09T10:23:12.093745Z",
     "iopub.status.idle": "2023-01-09T10:23:12.218691Z",
     "shell.execute_reply": "2023-01-09T10:23:12.217715Z"
    },
    "id": "SCnLDLTh-EI8",
    "outputId": "6c57cf8a-e9e1-44b8-cc98-28703857f9b7",
    "papermill": {
     "duration": 0.229733,
     "end_time": "2023-01-09T10:23:12.221065",
     "exception": false,
     "start_time": "2023-01-09T10:23:11.991332",
     "status": "completed"
    },
    "tags": []
   },
   "outputs": [
    {
     "name": "stdout",
     "output_type": "stream",
     "text": [
      "Current folder is:  /kaggle/input/shift-cv-winter-2023/test/test\n",
      "A sample of filename:  dufxhphtkcneaaxcoqlf.jpg\n"
     ]
    }
   ],
   "source": [
    "test_pth = '/kaggle/input/shift-cv-winter-2023/test/test'\n",
    "os.chdir(test_pth)\n",
    "print('Current folder is: ', os.getcwd())\n",
    "tst_file_list = os.listdir()\n",
    "print('A sample of filename: ', tst_file_list[10])"
   ]
  },
  {
   "cell_type": "code",
   "execution_count": 37,
   "id": "a573fc42",
   "metadata": {
    "execution": {
     "iopub.execute_input": "2023-01-09T10:23:12.427271Z",
     "iopub.status.busy": "2023-01-09T10:23:12.426074Z",
     "iopub.status.idle": "2023-01-09T10:23:12.438391Z",
     "shell.execute_reply": "2023-01-09T10:23:12.437379Z"
    },
    "id": "AMzY729qBCH2",
    "outputId": "842d4c8f-d4e8-4441-d873-95b3a58d89b1",
    "papermill": {
     "duration": 0.118503,
     "end_time": "2023-01-09T10:23:12.440843",
     "exception": false,
     "start_time": "2023-01-09T10:23:12.322340",
     "status": "completed"
    },
    "tags": []
   },
   "outputs": [
    {
     "data": {
      "text/html": [
       "<div>\n",
       "<style scoped>\n",
       "    .dataframe tbody tr th:only-of-type {\n",
       "        vertical-align: middle;\n",
       "    }\n",
       "\n",
       "    .dataframe tbody tr th {\n",
       "        vertical-align: top;\n",
       "    }\n",
       "\n",
       "    .dataframe thead th {\n",
       "        text-align: right;\n",
       "    }\n",
       "</style>\n",
       "<table border=\"1\" class=\"dataframe\">\n",
       "  <thead>\n",
       "    <tr style=\"text-align: right;\">\n",
       "      <th></th>\n",
       "      <th>filename</th>\n",
       "    </tr>\n",
       "  </thead>\n",
       "  <tbody>\n",
       "    <tr>\n",
       "      <th>0</th>\n",
       "      <td>sayzffvvevfqhcvbidcl.jpg</td>\n",
       "    </tr>\n",
       "    <tr>\n",
       "      <th>1</th>\n",
       "      <td>momggphlkddgzvoyoiub.jpg</td>\n",
       "    </tr>\n",
       "    <tr>\n",
       "      <th>2</th>\n",
       "      <td>axwqnvsyiuqhfygkwmmo.jpg</td>\n",
       "    </tr>\n",
       "  </tbody>\n",
       "</table>\n",
       "</div>"
      ],
      "text/plain": [
       "                   filename\n",
       "0  sayzffvvevfqhcvbidcl.jpg\n",
       "1  momggphlkddgzvoyoiub.jpg\n",
       "2  axwqnvsyiuqhfygkwmmo.jpg"
      ]
     },
     "execution_count": 37,
     "metadata": {},
     "output_type": "execute_result"
    }
   ],
   "source": [
    "df_test = pd.DataFrame(tst_file_list, columns=['filename'])\n",
    "df_test.head(3)"
   ]
  },
  {
   "cell_type": "code",
   "execution_count": 38,
   "id": "001a3379",
   "metadata": {
    "execution": {
     "iopub.execute_input": "2023-01-09T10:23:12.654834Z",
     "iopub.status.busy": "2023-01-09T10:23:12.654005Z",
     "iopub.status.idle": "2023-01-09T10:23:12.658932Z",
     "shell.execute_reply": "2023-01-09T10:23:12.657937Z"
    },
    "id": "ZMC2KFqlW9Kn",
    "papermill": {
     "duration": 0.112034,
     "end_time": "2023-01-09T10:23:12.661292",
     "exception": false,
     "start_time": "2023-01-09T10:23:12.549258",
     "status": "completed"
    },
    "tags": []
   },
   "outputs": [],
   "source": [
    "feat_tst = []"
   ]
  },
  {
   "cell_type": "code",
   "execution_count": 39,
   "id": "7c0cc0a1",
   "metadata": {
    "execution": {
     "iopub.execute_input": "2023-01-09T10:23:12.867443Z",
     "iopub.status.busy": "2023-01-09T10:23:12.866706Z",
     "iopub.status.idle": "2023-01-09T10:24:29.294507Z",
     "shell.execute_reply": "2023-01-09T10:24:29.293003Z"
    },
    "id": "YOgBmszq3Hag",
    "outputId": "2c888311-a38c-4c94-ddb1-f9aed028e292",
    "papermill": {
     "duration": 76.531149,
     "end_time": "2023-01-09T10:24:29.297409",
     "exception": false,
     "start_time": "2023-01-09T10:23:12.766260",
     "status": "completed"
    },
    "tags": []
   },
   "outputs": [
    {
     "name": "stderr",
     "output_type": "stream",
     "text": [
      "100%|██████████| 774/774 [01:16<00:00, 10.13it/s]\n"
     ]
    }
   ],
   "source": [
    "for im_pth in tqdm(df_test['filename']):\n",
    "  gray_img2 = cv2.imread(str(im_pth),0)\n",
    "  \n",
    "  tv_feat = calc_tv_measure(gray_img2)\n",
    "  fft_feat = calc_fft_measure(gray_img2)\n",
    "  lpl_feat = laplace(gray_img2)\n",
    "  sbl_feat = sobel(gray_img2)\n",
    "  rbt_feat = roberts(gray_img2)\n",
    "  \n",
    "  feat_tst.append([im_pth, lpl_feat.mean(),lpl_feat.var(),np.amax(lpl_feat),\\\n",
    "                   sbl_feat.mean(),sbl_feat.var(),np.max(sbl_feat),\\\n",
    "                   rbt_feat.mean(),rbt_feat.var(),np.max(rbt_feat),\\\n",
    "                   fft_feat, tv_feat])"
   ]
  },
  {
   "cell_type": "code",
   "execution_count": 40,
   "id": "370648ca",
   "metadata": {
    "execution": {
     "iopub.execute_input": "2023-01-09T10:24:29.549225Z",
     "iopub.status.busy": "2023-01-09T10:24:29.548762Z",
     "iopub.status.idle": "2023-01-09T10:24:29.556115Z",
     "shell.execute_reply": "2023-01-09T10:24:29.554573Z"
    },
    "id": "iPVvrbCgEkTp",
    "papermill": {
     "duration": 0.13848,
     "end_time": "2023-01-09T10:24:29.558991",
     "exception": false,
     "start_time": "2023-01-09T10:24:29.420511",
     "status": "completed"
    },
    "tags": []
   },
   "outputs": [],
   "source": [
    "clmns=['image', 'Lpl_Mean', 'Lpl_Var', 'Lpl_Max', 'Sbl_Mean', 'Sbl_Var', 'Sbl_Max', 'Rbt_Mean', 'Rbt_Var', 'Rbt_Max', 'fft_feat', 'tv_feat']"
   ]
  },
  {
   "cell_type": "code",
   "execution_count": 41,
   "id": "62914518",
   "metadata": {
    "execution": {
     "iopub.execute_input": "2023-01-09T10:24:29.815282Z",
     "iopub.status.busy": "2023-01-09T10:24:29.814833Z",
     "iopub.status.idle": "2023-01-09T10:24:29.836670Z",
     "shell.execute_reply": "2023-01-09T10:24:29.835114Z"
    },
    "id": "qUx9uVTfEkTx",
    "outputId": "ec1c4867-de3f-4337-a61a-60fd399c7f99",
    "papermill": {
     "duration": 0.153919,
     "end_time": "2023-01-09T10:24:29.839397",
     "exception": false,
     "start_time": "2023-01-09T10:24:29.685478",
     "status": "completed"
    },
    "tags": []
   },
   "outputs": [
    {
     "data": {
      "text/html": [
       "<div>\n",
       "<style scoped>\n",
       "    .dataframe tbody tr th:only-of-type {\n",
       "        vertical-align: middle;\n",
       "    }\n",
       "\n",
       "    .dataframe tbody tr th {\n",
       "        vertical-align: top;\n",
       "    }\n",
       "\n",
       "    .dataframe thead th {\n",
       "        text-align: right;\n",
       "    }\n",
       "</style>\n",
       "<table border=\"1\" class=\"dataframe\">\n",
       "  <thead>\n",
       "    <tr style=\"text-align: right;\">\n",
       "      <th></th>\n",
       "      <th>image</th>\n",
       "      <th>Lpl_Mean</th>\n",
       "      <th>Lpl_Var</th>\n",
       "      <th>Lpl_Max</th>\n",
       "      <th>Sbl_Mean</th>\n",
       "      <th>Sbl_Var</th>\n",
       "      <th>Sbl_Max</th>\n",
       "      <th>Rbt_Mean</th>\n",
       "      <th>Rbt_Var</th>\n",
       "      <th>Rbt_Max</th>\n",
       "      <th>fft_feat</th>\n",
       "      <th>tv_feat</th>\n",
       "    </tr>\n",
       "  </thead>\n",
       "  <tbody>\n",
       "    <tr>\n",
       "      <th>0</th>\n",
       "      <td>sayzffvvevfqhcvbidcl.jpg</td>\n",
       "      <td>-1.320558e-18</td>\n",
       "      <td>0.009074</td>\n",
       "      <td>1.121569</td>\n",
       "      <td>0.047011</td>\n",
       "      <td>0.003303</td>\n",
       "      <td>0.567167</td>\n",
       "      <td>0.041461</td>\n",
       "      <td>0.002724</td>\n",
       "      <td>0.631975</td>\n",
       "      <td>0.026307</td>\n",
       "      <td>11.807869</td>\n",
       "    </tr>\n",
       "  </tbody>\n",
       "</table>\n",
       "</div>"
      ],
      "text/plain": [
       "                      image      Lpl_Mean   Lpl_Var   Lpl_Max  Sbl_Mean  \\\n",
       "0  sayzffvvevfqhcvbidcl.jpg -1.320558e-18  0.009074  1.121569  0.047011   \n",
       "\n",
       "    Sbl_Var   Sbl_Max  Rbt_Mean   Rbt_Var   Rbt_Max  fft_feat    tv_feat  \n",
       "0  0.003303  0.567167  0.041461  0.002724  0.631975  0.026307  11.807869  "
      ]
     },
     "execution_count": 41,
     "metadata": {},
     "output_type": "execute_result"
    }
   ],
   "source": [
    "ftrs_df_tst = pd.DataFrame(feat_tst, columns=clmns)\n",
    "ftrs_df_tst.head(1)"
   ]
  },
  {
   "cell_type": "code",
   "execution_count": 42,
   "id": "8d490f7f",
   "metadata": {
    "execution": {
     "iopub.execute_input": "2023-01-09T10:24:30.088559Z",
     "iopub.status.busy": "2023-01-09T10:24:30.088147Z",
     "iopub.status.idle": "2023-01-09T10:24:30.110704Z",
     "shell.execute_reply": "2023-01-09T10:24:30.109428Z"
    },
    "id": "plDhdidf3HUv",
    "outputId": "b4e3c8f9-425d-4dc7-a74a-914cdabc31c2",
    "papermill": {
     "duration": 0.149754,
     "end_time": "2023-01-09T10:24:30.113189",
     "exception": false,
     "start_time": "2023-01-09T10:24:29.963435",
     "status": "completed"
    },
    "tags": []
   },
   "outputs": [
    {
     "data": {
      "text/html": [
       "<div>\n",
       "<style scoped>\n",
       "    .dataframe tbody tr th:only-of-type {\n",
       "        vertical-align: middle;\n",
       "    }\n",
       "\n",
       "    .dataframe tbody tr th {\n",
       "        vertical-align: top;\n",
       "    }\n",
       "\n",
       "    .dataframe thead th {\n",
       "        text-align: right;\n",
       "    }\n",
       "</style>\n",
       "<table border=\"1\" class=\"dataframe\">\n",
       "  <thead>\n",
       "    <tr style=\"text-align: right;\">\n",
       "      <th></th>\n",
       "      <th>Lpl_Mean</th>\n",
       "      <th>Lpl_Var</th>\n",
       "      <th>Lpl_Max</th>\n",
       "      <th>Sbl_Mean</th>\n",
       "      <th>Sbl_Var</th>\n",
       "      <th>Sbl_Max</th>\n",
       "      <th>Rbt_Mean</th>\n",
       "      <th>Rbt_Var</th>\n",
       "      <th>Rbt_Max</th>\n",
       "      <th>fft_feat</th>\n",
       "      <th>tv_feat</th>\n",
       "    </tr>\n",
       "  </thead>\n",
       "  <tbody>\n",
       "    <tr>\n",
       "      <th>0</th>\n",
       "      <td>-1.320558e-18</td>\n",
       "      <td>0.009074</td>\n",
       "      <td>1.121569</td>\n",
       "      <td>0.047011</td>\n",
       "      <td>0.003303</td>\n",
       "      <td>0.567167</td>\n",
       "      <td>0.041461</td>\n",
       "      <td>0.002724</td>\n",
       "      <td>0.631975</td>\n",
       "      <td>0.026307</td>\n",
       "      <td>11.807869</td>\n",
       "    </tr>\n",
       "    <tr>\n",
       "      <th>1</th>\n",
       "      <td>-9.419006e-20</td>\n",
       "      <td>0.000282</td>\n",
       "      <td>0.235294</td>\n",
       "      <td>0.013187</td>\n",
       "      <td>0.000314</td>\n",
       "      <td>0.260895</td>\n",
       "      <td>0.010317</td>\n",
       "      <td>0.000194</td>\n",
       "      <td>0.245106</td>\n",
       "      <td>0.090734</td>\n",
       "      <td>39.314880</td>\n",
       "    </tr>\n",
       "    <tr>\n",
       "      <th>2</th>\n",
       "      <td>-1.055335e-18</td>\n",
       "      <td>0.005628</td>\n",
       "      <td>1.129412</td>\n",
       "      <td>0.030531</td>\n",
       "      <td>0.004127</td>\n",
       "      <td>0.688971</td>\n",
       "      <td>0.025370</td>\n",
       "      <td>0.003034</td>\n",
       "      <td>0.758801</td>\n",
       "      <td>0.032674</td>\n",
       "      <td>7.144684</td>\n",
       "    </tr>\n",
       "  </tbody>\n",
       "</table>\n",
       "</div>"
      ],
      "text/plain": [
       "       Lpl_Mean   Lpl_Var   Lpl_Max  Sbl_Mean   Sbl_Var   Sbl_Max  Rbt_Mean  \\\n",
       "0 -1.320558e-18  0.009074  1.121569  0.047011  0.003303  0.567167  0.041461   \n",
       "1 -9.419006e-20  0.000282  0.235294  0.013187  0.000314  0.260895  0.010317   \n",
       "2 -1.055335e-18  0.005628  1.129412  0.030531  0.004127  0.688971  0.025370   \n",
       "\n",
       "    Rbt_Var   Rbt_Max  fft_feat    tv_feat  \n",
       "0  0.002724  0.631975  0.026307  11.807869  \n",
       "1  0.000194  0.245106  0.090734  39.314880  \n",
       "2  0.003034  0.758801  0.032674   7.144684  "
      ]
     },
     "execution_count": 42,
     "metadata": {},
     "output_type": "execute_result"
    }
   ],
   "source": [
    "df_tst_no_img = ftrs_df_tst.drop(['image'], axis=1)\n",
    "df_tst_no_img.head(3)"
   ]
  },
  {
   "cell_type": "code",
   "execution_count": 43,
   "id": "14cbac6d",
   "metadata": {
    "execution": {
     "iopub.execute_input": "2023-01-09T10:24:30.375343Z",
     "iopub.status.busy": "2023-01-09T10:24:30.374827Z",
     "iopub.status.idle": "2023-01-09T10:24:30.402237Z",
     "shell.execute_reply": "2023-01-09T10:24:30.400924Z"
    },
    "id": "ao7MjsB3dq68",
    "papermill": {
     "duration": 0.159593,
     "end_time": "2023-01-09T10:24:30.405229",
     "exception": false,
     "start_time": "2023-01-09T10:24:30.245636",
     "status": "completed"
    },
    "tags": []
   },
   "outputs": [],
   "source": [
    "pred_ProB_tst = svm_clf.predict_proba(df_tst_no_img)[:,1]"
   ]
  },
  {
   "cell_type": "code",
   "execution_count": 44,
   "id": "8ed498b7",
   "metadata": {
    "execution": {
     "iopub.execute_input": "2023-01-09T10:24:30.725135Z",
     "iopub.status.busy": "2023-01-09T10:24:30.724704Z",
     "iopub.status.idle": "2023-01-09T10:24:30.730774Z",
     "shell.execute_reply": "2023-01-09T10:24:30.729475Z"
    },
    "id": "OUELVq72f_nu",
    "papermill": {
     "duration": 0.134917,
     "end_time": "2023-01-09T10:24:30.733494",
     "exception": false,
     "start_time": "2023-01-09T10:24:30.598577",
     "status": "completed"
    },
    "tags": []
   },
   "outputs": [],
   "source": [
    "pred_ProB_tst = np.round(pred_ProB_tst, 1)"
   ]
  },
  {
   "cell_type": "code",
   "execution_count": 45,
   "id": "5f0be215",
   "metadata": {
    "execution": {
     "iopub.execute_input": "2023-01-09T10:24:30.984048Z",
     "iopub.status.busy": "2023-01-09T10:24:30.983624Z",
     "iopub.status.idle": "2023-01-09T10:24:30.994639Z",
     "shell.execute_reply": "2023-01-09T10:24:30.993320Z"
    },
    "id": "NfsOKhnKaG3X",
    "outputId": "4db53780-83c6-49dd-cd49-fa5ebc5a3243",
    "papermill": {
     "duration": 0.138048,
     "end_time": "2023-01-09T10:24:30.997070",
     "exception": false,
     "start_time": "2023-01-09T10:24:30.859022",
     "status": "completed"
    },
    "tags": []
   },
   "outputs": [
    {
     "data": {
      "text/html": [
       "<div>\n",
       "<style scoped>\n",
       "    .dataframe tbody tr th:only-of-type {\n",
       "        vertical-align: middle;\n",
       "    }\n",
       "\n",
       "    .dataframe tbody tr th {\n",
       "        vertical-align: top;\n",
       "    }\n",
       "\n",
       "    .dataframe thead th {\n",
       "        text-align: right;\n",
       "    }\n",
       "</style>\n",
       "<table border=\"1\" class=\"dataframe\">\n",
       "  <thead>\n",
       "    <tr style=\"text-align: right;\">\n",
       "      <th></th>\n",
       "      <th>0</th>\n",
       "    </tr>\n",
       "  </thead>\n",
       "  <tbody>\n",
       "    <tr>\n",
       "      <th>0</th>\n",
       "      <td>0.0</td>\n",
       "    </tr>\n",
       "    <tr>\n",
       "      <th>1</th>\n",
       "      <td>1.0</td>\n",
       "    </tr>\n",
       "    <tr>\n",
       "      <th>2</th>\n",
       "      <td>0.1</td>\n",
       "    </tr>\n",
       "  </tbody>\n",
       "</table>\n",
       "</div>"
      ],
      "text/plain": [
       "     0\n",
       "0  0.0\n",
       "1  1.0\n",
       "2  0.1"
      ]
     },
     "execution_count": 45,
     "metadata": {},
     "output_type": "execute_result"
    }
   ],
   "source": [
    "df_prob = pd.DataFrame(pred_ProB_tst)\n",
    "df_prob.head(3)"
   ]
  },
  {
   "cell_type": "code",
   "execution_count": 46,
   "id": "d6ea033b",
   "metadata": {
    "execution": {
     "iopub.execute_input": "2023-01-09T10:24:31.243538Z",
     "iopub.status.busy": "2023-01-09T10:24:31.243088Z",
     "iopub.status.idle": "2023-01-09T10:24:31.250765Z",
     "shell.execute_reply": "2023-01-09T10:24:31.249381Z"
    },
    "id": "3QOxLINB-yCW",
    "papermill": {
     "duration": 0.13405,
     "end_time": "2023-01-09T10:24:31.253285",
     "exception": false,
     "start_time": "2023-01-09T10:24:31.119235",
     "status": "completed"
    },
    "tags": []
   },
   "outputs": [],
   "source": [
    "df_submission = pd.concat([ftrs_df_tst['image'], df_prob[0]], axis=1, keys=['filename', 'blur'])"
   ]
  },
  {
   "cell_type": "code",
   "execution_count": 47,
   "id": "304efb90",
   "metadata": {
    "execution": {
     "iopub.execute_input": "2023-01-09T10:24:31.514534Z",
     "iopub.status.busy": "2023-01-09T10:24:31.514116Z",
     "iopub.status.idle": "2023-01-09T10:24:31.526201Z",
     "shell.execute_reply": "2023-01-09T10:24:31.524651Z"
    },
    "id": "gGywVZ9vaiV4",
    "papermill": {
     "duration": 0.149205,
     "end_time": "2023-01-09T10:24:31.529166",
     "exception": false,
     "start_time": "2023-01-09T10:24:31.379961",
     "status": "completed"
    },
    "tags": []
   },
   "outputs": [],
   "source": [
    "df_submission.to_csv('/kaggle/working/subm8.csv', index=False)"
   ]
  }
 ],
 "metadata": {
  "kernelspec": {
   "display_name": "Python 3",
   "language": "python",
   "name": "python3"
  },
  "language_info": {
   "codemirror_mode": {
    "name": "ipython",
    "version": 3
   },
   "file_extension": ".py",
   "mimetype": "text/x-python",
   "name": "python",
   "nbconvert_exporter": "python",
   "pygments_lexer": "ipython3",
   "version": "3.7.12"
  },
  "papermill": {
   "default_parameters": {},
   "duration": 304.63576,
   "end_time": "2023-01-09T10:24:32.788790",
   "environment_variables": {},
   "exception": null,
   "input_path": "__notebook__.ipynb",
   "output_path": "__notebook__.ipynb",
   "parameters": {},
   "start_time": "2023-01-09T10:19:28.153030",
   "version": "2.3.4"
  }
 },
 "nbformat": 4,
 "nbformat_minor": 5
}
